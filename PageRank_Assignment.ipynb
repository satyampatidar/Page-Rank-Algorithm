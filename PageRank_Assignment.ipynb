{
 "cells": [
  {
   "cell_type": "markdown",
   "metadata": {
    "collapsed": true,
    "id": "BaRCSTHkrcC-"
   },
   "source": [
    "# PageRank\n",
    "In this notebook, you'll build on your knowledge of eigenvectors and eigenvalues by exploring the PageRank algorithm.\n",
    "The notebook is in two parts, the first is a worksheet to get you up to speed with how the algorithm works - here we will look at a micro-internet with fewer than 10 websites and see what it does and what can go wrong.\n",
    "The second is an assessment which will test your application of eigentheory to this problem by writing code and calculating the page rank of a large network representing a sub-section of the internet."
   ]
  },
  {
   "cell_type": "markdown",
   "metadata": {
    "id": "NuuqlTBJrcDB"
   },
   "source": [
    "## Part 1 - Worksheet\n",
    "### Introduction\n",
    "\n",
    "PageRank (developed by Larry Page and Sergey Brin) revolutionized web search by generating a\n",
    "ranked list of web pages based on the underlying connectivity of the web. The PageRank algorithm is\n",
    "based on an ideal random web surfer who, when reaching a page, goes to the next page by clicking on a\n",
    "link. The surfer has equal probability of clicking any link on the page and, when reaching a page with no\n",
    "links, has equal probability of moving to any other page by typing in its URL. In addition, the surfer may\n",
    "occasionally choose to type in a random URL instead of following the links on a page. The PageRank is\n",
    "the ranked order of the pages from the most to the least probable page the surfer will be viewing.\n"
   ]
  },
  {
   "cell_type": "code",
   "execution_count": 1,
   "metadata": {
    "id": "SajlK0TgrcDC"
   },
   "outputs": [
    {
     "name": "stdout",
     "output_type": "stream",
     "text": [
      "Populating the interactive namespace from numpy and matplotlib\n"
     ]
    }
   ],
   "source": [
    "# Before we begin, let's load the libraries.\n",
    "%pylab notebook\n",
    "# Author Satyam Patidar MCS20026\n",
    "import numpy as np\n",
    "import numpy.linalg as la\n",
    "import matplotlib.pyplot as plt\n",
    "np.set_printoptions(suppress=True)"
   ]
  },
  {
   "cell_type": "code",
   "execution_count": 2,
   "metadata": {},
   "outputs": [],
   "source": [
    "def generate_internet(n) :\n",
    "    c = np.full([n,n], np.arange(n))\n",
    "    c = (abs(np.random.standard_cauchy([n,n])/2) > (np.abs(c - c.T) + 1)) + 0\n",
    "    c = (c+1e-10) / np.sum((c+1e-10), axis=0)\n",
    "    return c"
   ]
  },
  {
   "cell_type": "markdown",
   "metadata": {
    "id": "-VdOA-9SrcDD"
   },
   "source": [
    "### PageRank as a linear algebra problem\n",
    "Let's imagine a micro-internet, with just 6 websites (**A**vocado, **B**ullseye, **C**atBabel, **D**romeda, **e**Tings, and **F**aceSpace).\n",
    "Each website links to some of the others, and this forms a network as shown,\n",
    "\n",
    "![A Micro-Internet](readonly/internet.png \"A Micro-Internet\")\n",
    "\n",
    "The design principle of PageRank is that important websites will be linked to by important websites.\n",
    "This somewhat recursive principle will form the basis of our thinking.\n",
    "\n",
    "Imagine we have 100 *Procrastinating Pat*s on our micro-internet, each viewing a single website at a time.\n",
    "Each minute the Pats follow a link on their website to another site on the micro-internet.\n",
    "After a while, the websites that are most linked to will have more Pats visiting them, and in the long run, each minute for every Pat that leaves a website, another will enter keeping the total numbers of Pats on each website constant.\n",
    "The PageRank is simply the ranking of websites by how many Pats they have on them at the end of this process.\n",
    "\n",
    "We represent the number of Pats on each website with the vector,\n",
    "$$\\mathbf{r} = \\begin{bmatrix} r_A \\\\ r_B \\\\ r_C \\\\ r_D \\\\ r_E \\\\ r_F \\end{bmatrix}$$\n",
    "And say that the number of Pats on each website in minute $i+1$ is related to those at minute $i$ by the matrix transformation\n",
    "\n",
    "$$ \\mathbf{r}^{(i+1)} = L \\,\\mathbf{r}^{(i)}$$\n",
    "with the matrix $L$ taking the form,\n",
    "$$ L = \\begin{bmatrix}\n",
    "L_{A→A} & L_{B→A} & L_{C→A} & L_{D→A} & L_{E→A} & L_{F→A} \\\\\n",
    "L_{A→B} & L_{B→B} & L_{C→B} & L_{D→B} & L_{E→B} & L_{F→B} \\\\\n",
    "L_{A→C} & L_{B→C} & L_{C→C} & L_{D→C} & L_{E→C} & L_{F→C} \\\\\n",
    "L_{A→D} & L_{B→D} & L_{C→D} & L_{D→D} & L_{E→D} & L_{F→D} \\\\\n",
    "L_{A→E} & L_{B→E} & L_{C→E} & L_{D→E} & L_{E→E} & L_{F→E} \\\\\n",
    "L_{A→F} & L_{B→F} & L_{C→F} & L_{D→F} & L_{E→F} & L_{F→F} \\\\\n",
    "\\end{bmatrix}\n",
    "$$\n",
    "where the columns represent the probability of leaving a website for any other website, and sum to one.\n",
    "The rows determine how likely you are to enter a website from any other, though these need not add to one.\n",
    "The long time behaviour of this system is when $ \\mathbf{r}^{(i+1)} = \\mathbf{r}^{(i)}$, so we'll drop the superscripts here, and that allows us to write,\n",
    "$$ L \\,\\mathbf{r} = \\mathbf{r}$$\n",
    "\n",
    "which is an eigenvalue equation for the matrix $L$, with eigenvalue 1 (this is guaranteed by the probabalistic structure of the matrix $L$).\n",
    "\n",
    "Complete the matrix $L$ below, we've left out the column for which websites the *FaceSpace* website (F) links to.\n",
    "Remember, this is the probability to click on another website from this one, so each column should add to one (by scaling by the number of links)."
   ]
  },
  {
   "cell_type": "code",
   "execution_count": 3,
   "metadata": {
    "id": "eqFSk4OfrcDD"
   },
   "outputs": [],
   "source": [
    "# Replace the ??? here with the probability of clicking a link to each website when leaving Website F (FaceSpace).\n",
    "L = np.array([[0,   1/2, 1/3, 0, 0,   0 ],\n",
    "              [1/3, 0,   0,   0, 1/2, 0 ],\n",
    "              [1/3, 1/2, 0,   1, 0,   1/2 ],\n",
    "              [1/3, 0,   1/3, 0, 1/2, 1/2 ],\n",
    "              [0,   0,   0,   0, 0,   0 ],\n",
    "              [0,   0,   1/3, 0, 0,   0 ]])"
   ]
  },
  {
   "cell_type": "markdown",
   "metadata": {
    "id": "gNnw1EVmrcDD"
   },
   "source": [
    "In principle, we could use a linear algebra library, as below, to calculate the eigenvalues and vectors.\n",
    "And this would work for a small system. But this gets unmanagable for large systems.\n",
    "And since we only care about the principal eigenvector (the one with the largest eigenvalue, which will be 1 in this case), we can use the *power iteration method* which will scale better, and is faster for large systems.\n",
    "\n",
    "Use the code below to peek at the PageRank for this micro-internet."
   ]
  },
  {
   "cell_type": "code",
   "execution_count": 4,
   "metadata": {
    "id": "idSBXc3crcDD"
   },
   "outputs": [
    {
     "data": {
      "text/plain": [
       "array([16.        ,  5.33333333, 40.        , 25.33333333,  0.        ,\n",
       "       13.33333333])"
      ]
     },
     "execution_count": 4,
     "metadata": {},
     "output_type": "execute_result"
    }
   ],
   "source": [
    "eVals, eVecs = la.eig(L) # Gets the eigenvalues and vectors\n",
    "order = np.absolute(eVals).argsort()[::-1] # Orders them by their eigenvalues\n",
    "eVals = eVals[order]\n",
    "eVecs = eVecs[:,order]\n",
    "\n",
    "r = eVecs[:, 0] # Sets r to be the principal eigenvector\n",
    "100 * np.real(r / np.sum(r)) # Make this eigenvector sum to one, then multiply by 100 Procrastinating Pats"
   ]
  },
  {
   "cell_type": "markdown",
   "metadata": {
    "id": "UR93RtC6rcDD"
   },
   "source": [
    "We can see from this list, the number of Procrastinating Pats that we expect to find on each website after long times.\n",
    "Putting them in order of *popularity* (based on this metric), the PageRank of this micro-internet is:\n",
    "\n",
    "**C**atBabel, **D**romeda, **A**vocado, **F**aceSpace, **B**ullseye, **e**Tings\n",
    "\n",
    "Referring back to the micro-internet diagram, is this what you would have expected?\n",
    "Convince yourself that based on which pages seem important given which others link to them, that this is a sensible ranking.\n",
    "\n",
    "Let's now try to get the same result using the Power-Iteration method that was covered in the video.\n",
    "This method will be much better at dealing with large systems.\n",
    "\n",
    "First let's set up our initial vector, $\\mathbf{r}^{(0)}$, so that we have our 100 Procrastinating Pats equally distributed on each of our 6 websites."
   ]
  },
  {
   "cell_type": "code",
   "execution_count": 5,
   "metadata": {
    "id": "a063nXSmrcDD"
   },
   "outputs": [
    {
     "data": {
      "text/plain": [
       "array([16.66666667, 16.66666667, 16.66666667, 16.66666667, 16.66666667,\n",
       "       16.66666667])"
      ]
     },
     "execution_count": 5,
     "metadata": {},
     "output_type": "execute_result"
    }
   ],
   "source": [
    "r = 100 * np.ones(6) / 6 # Sets up this vector (6 entries of 1/6 × 100 each)\n",
    "r # Shows it's value"
   ]
  },
  {
   "cell_type": "markdown",
   "metadata": {
    "id": "Su5kFP0zrcDE"
   },
   "source": [
    "Next, let's update the vector to the next minute, with the matrix $L$.\n",
    "Run the following cell multiple times, until the answer stabilises."
   ]
  },
  {
   "cell_type": "code",
   "execution_count": 6,
   "metadata": {
    "id": "hdDOkuRvrcDE"
   },
   "outputs": [
    {
     "data": {
      "text/plain": [
       "array([13.88888889, 13.88888889, 38.88888889, 27.77777778,  0.        ,\n",
       "        5.55555556])"
      ]
     },
     "execution_count": 6,
     "metadata": {},
     "output_type": "execute_result"
    }
   ],
   "source": [
    "r = L @ r # Apply matrix L to r\n",
    "r # Show it's value\n",
    "# Re-run this cell multiple times to converge to the correct answer."
   ]
  },
  {
   "cell_type": "markdown",
   "metadata": {
    "id": "hGSQwGBjrcDE"
   },
   "source": [
    "We can automate applying this matrix multiple times as follows,"
   ]
  },
  {
   "cell_type": "code",
   "execution_count": 7,
   "metadata": {
    "id": "yU-e2NOwrcDE"
   },
   "outputs": [
    {
     "data": {
      "text/plain": [
       "array([16.        ,  5.33333333, 40.        , 25.33333333,  0.        ,\n",
       "       13.33333333])"
      ]
     },
     "execution_count": 7,
     "metadata": {},
     "output_type": "execute_result"
    }
   ],
   "source": [
    "r = 100 * np.ones(6) / 6 # Sets up this vector (6 entries of 1/6 × 100 each)\n",
    "for i in np.arange(100) : # Repeat 100 times\n",
    "    r = L @ r\n",
    "r"
   ]
  },
  {
   "cell_type": "markdown",
   "metadata": {
    "id": "KXa-MP_prcDE"
   },
   "source": [
    "Or even better, we can keep running until we get to the required tolerance."
   ]
  },
  {
   "cell_type": "code",
   "execution_count": 8,
   "metadata": {
    "id": "MiFJ11wrrcDE"
   },
   "outputs": [
    {
     "name": "stdout",
     "output_type": "stream",
     "text": [
      "18 iterations to convergence.\n"
     ]
    },
    {
     "data": {
      "text/plain": [
       "array([16.00149917,  5.33252025, 39.99916911, 25.3324738 ,  0.        ,\n",
       "       13.33433767])"
      ]
     },
     "execution_count": 8,
     "metadata": {},
     "output_type": "execute_result"
    }
   ],
   "source": [
    "r = 100 * np.ones(6) / 6 # Sets up this vector (6 entries of 1/6 × 100 each)\n",
    "lastR = r\n",
    "r = L @ r\n",
    "i = 0\n",
    "while la.norm(lastR - r) > 0.01 :\n",
    "    lastR = r\n",
    "    r = L @ r\n",
    "    i += 1\n",
    "print(str(i) + \" iterations to convergence.\")\n",
    "r"
   ]
  },
  {
   "cell_type": "markdown",
   "metadata": {
    "id": "SiaaP2zNrcDE"
   },
   "source": [
    "See how the PageRank order is established fairly quickly, and the vector converges on the value we calculated earlier after a few tens of repeats.\n",
    "\n",
    "Congratulations! You've just calculated your first PageRank!"
   ]
  },
  {
   "cell_type": "markdown",
   "metadata": {
    "id": "8wNLKDdDrcDE"
   },
   "source": [
    "### Damping Parameter\n",
    "The system we just studied converged fairly quickly to the correct answer.\n",
    "Let's consider an extension to our micro-internet where things start to go wrong.\n",
    "\n",
    "Say a new website is added to the micro-internet: *Geoff's* Website.\n",
    "This website is linked to by *FaceSpace* and only links to itself.\n",
    "![An Expanded Micro-Internet](readonly/internet2.png \"An Expanded Micro-Internet\")\n",
    "\n",
    "Intuitively, only *FaceSpace*, which is in the bottom half of the page rank, links to this website amongst the two others it links to,\n",
    "so we might expect *Geoff's* site to have a correspondingly low PageRank score.\n",
    "\n",
    "Build the new $L$ matrix for the expanded micro-internet, and use Power-Iteration on the Procrastinating Pat vector.\n",
    "See what happens…"
   ]
  },
  {
   "cell_type": "code",
   "execution_count": 9,
   "metadata": {
    "id": "xSpyIac1rcDE"
   },
   "outputs": [],
   "source": [
    " # We'll call this one L2, to distinguish it from the previous L.\n",
    "L2 = np.array ([[0,   1/2, 1/3, 0, 0,   0, 0 ],\n",
    "               [1/3, 0,   0,   0, 1/2, 0, 0 ],\n",
    "               [1/3, 1/2, 0,   1, 0,   1/3, 0 ],\n",
    "               [1/3, 0,   1/3, 0, 1/2, 1/3, 0 ],\n",
    "               [0,   0,   0,   0, 0,   0, 0 ],\n",
    "               [0,   0,   1/3, 0, 0,   0, 0 ],\n",
    "               [0,   0,   0,   0, 0,   1/3, 1 ]])"
   ]
  },
  {
   "cell_type": "code",
   "execution_count": 10,
   "metadata": {
    "id": "fsU5jYUjrcDE"
   },
   "outputs": [
    {
     "name": "stdout",
     "output_type": "stream",
     "text": [
      "131 iterations to convergence.\n"
     ]
    },
    {
     "data": {
      "text/plain": [
       "array([ 0.03046998,  0.01064323,  0.07126612,  0.04423198,  0.        ,\n",
       "        0.02489342, 99.81849527])"
      ]
     },
     "execution_count": 10,
     "metadata": {},
     "output_type": "execute_result"
    }
   ],
   "source": [
    "r = 100 * np.ones(7) / 7 # Sets up this vector (6 entries of 1/6 × 100 each)\n",
    "lastR = r\n",
    "r = L2 @ r\n",
    "i = 0\n",
    "while la.norm(lastR - r) > 0.01 :\n",
    "    lastR = r\n",
    "    r = L2 @ r\n",
    "    i += 1\n",
    "print(str(i) + \" iterations to convergence.\")\n",
    "r"
   ]
  },
  {
   "cell_type": "markdown",
   "metadata": {
    "id": "jhcftTEGrcDE"
   },
   "source": [
    "That's no good! *Geoff* seems to be taking all the traffic on the micro-internet, and somehow coming at the top of the PageRank.\n",
    "This behaviour can be understood, because once a Pat get's to *Geoff's* Website, they can't leave, as all links head back to Geoff.\n",
    "\n",
    "To combat this, we can add a small probability that the Procrastinating Pats don't follow any link on a webpage, but instead visit a website on the micro-internet at random.\n",
    "We'll say the probability of them following a link is $d$ and the probability of choosing a random website is therefore $1-d$.\n",
    "We can use a new matrix to work out where the Pat's visit each minute.\n",
    "$$ M = d \\, L + \\frac{1-d}{n} \\, J $$\n",
    "where $J$ is an $n\\times n$ matrix where every element is one.\n",
    "\n",
    "If $d$ is one, we have the case we had previously, whereas if $d$ is zero, we will always visit a random webpage and therefore all webpages will be equally likely and equally ranked.\n",
    "For this extension to work best, $1-d$ should be somewhat small - though we won't go into a discussion about exactly how small.\n",
    "\n",
    "Let's retry this PageRank with this extension."
   ]
  },
  {
   "cell_type": "code",
   "execution_count": 11,
   "metadata": {
    "id": "NxS93beHrcDE"
   },
   "outputs": [],
   "source": [
    "d = 0.5 # Feel free to play with this parameter after running the code once.\n",
    "M = d * L2 + (1-d)/7 * np.ones([7, 7]) # np.ones() is the J matrix, with ones for each entry."
   ]
  },
  {
   "cell_type": "code",
   "execution_count": 12,
   "metadata": {
    "id": "C9mYJhCYrcDF"
   },
   "outputs": [
    {
     "name": "stdout",
     "output_type": "stream",
     "text": [
      "8 iterations to convergence.\n"
     ]
    },
    {
     "data": {
      "text/plain": [
       "array([13.68217054, 11.20902965, 22.41964343, 16.7593433 ,  7.14285714,\n",
       "       10.87976354, 17.90719239])"
      ]
     },
     "execution_count": 12,
     "metadata": {},
     "output_type": "execute_result"
    }
   ],
   "source": [
    "r = 100 * np.ones(7) / 7 # Sets up this vector (6 entries of 1/6 × 100 each)\n",
    "lastR = r\n",
    "r = M @ r\n",
    "i = 0\n",
    "while la.norm(lastR - r) > 0.01 :\n",
    "    lastR = r\n",
    "    r = M @ r\n",
    "    i += 1\n",
    "print(str(i) + \" iterations to convergence.\")\n",
    "r"
   ]
  },
  {
   "cell_type": "markdown",
   "metadata": {
    "id": "JoAHJxQfrcDF"
   },
   "source": [
    "This is certainly better, the PageRank gives sensible numbers for the Procrastinating Pats that end up on each webpage.\n",
    "This method still predicts Geoff has a high ranking webpage however.\n",
    "This could be seen as a consequence of using a small network. We could also get around the problem by not counting self-links when producing the L matrix (an if a website has no outgoing links, make it link to all websites equally).\n",
    "We won't look further down this route, as this is in the realm of improvements to PageRank, rather than eigenproblems.\n",
    "\n",
    "You are now in a good position, having gained an understanding of PageRank, to produce your own code to calculate the PageRank of a website with thousands of entries.\n",
    "\n",
    "Good Luck!"
   ]
  },
  {
   "cell_type": "markdown",
   "metadata": {
    "id": "MiE01OGMrcDF"
   },
   "source": [
    "## Part 2 - Assessment\n",
    "In this assessment, you will be asked to produce a function that can calculate the PageRank for an arbitrarily large probability matrix.\n",
    "This, the final assignment of the course, will give less guidance than previous assessments.\n",
    "You will be expected to utilise code from earlier in the worksheet and re-purpose it to your needs.\n",
    "\n",
    "### How to submit\n",
    "Edit the code in the cell below to complete the assignment.\n",
    "Once you are finished and happy with it,*Submit Assignment* in the google classroom.\n",
    "\n",
    "Please don't change any of the function names, as these will be checked by the grading script.\n"
   ]
  },
  {
   "cell_type": "code",
   "execution_count": 13,
   "metadata": {
    "id": "rsB89cewrcDF"
   },
   "outputs": [],
   "source": [
    "# PACKAGE\n",
    "# Here are the imports again, just in case you need them.\n",
    "# There is no need to edit or submit this cell.import numpy as np\n",
    "import numpy.linalg as la\n",
    "np.set_printoptions(suppress=True)"
   ]
  },
  {
   "cell_type": "code",
   "execution_count": 14,
   "metadata": {
    "id": "I8c4Y1ujrcDF"
   },
   "outputs": [],
   "source": [
    "# GRADED FUNCTION\n",
    "# Complete this function to provide the PageRank for an arbitrarily sized internet.\n",
    "# I.e. the principal eigenvector of the damped system, using the power iteration method.\n",
    "# (Normalisation doesn't matter here)\n",
    "# The functions inputs are the linkMatrix, and d the damping parameter - as defined in this worksheet.\n",
    "# (The damping parameter, d, will be set by the function - no need to set this yourself.)\n",
    "\n",
    "def pageRank(linkMatrix, d) :\n",
    "    n = linkMatrix.shape[0]\n",
    "    M = d * linkMatrix + (1-d)/n * np.ones([n, n]) # np.ones() is the j matrix, with ones for each entry.\n",
    "    r = 100 * np.ones(n) / n # Setting this vector (n entries of 1/n × 100 each)\n",
    "    lastR = r\n",
    "    r = M @ r\n",
    "    i = 0\n",
    "    while la.norm(lastR - r) > 0.01 :\n",
    "        lastR = r\n",
    "        r = M @ r\n",
    "        i += 1\n",
    "    print(str(i) + \" iterations to convergence.\")\n",
    "    return r\n"
   ]
  },
  {
   "cell_type": "markdown",
   "metadata": {
    "id": "w-E18DcFrcDF"
   },
   "source": [
    "## Test your code before submission\n",
    "To test the code you've written above, run the cell (select the cell above, then press the play button [ ▶| ] or press shift-enter).\n",
    "You can then use the code below to test out your function.\n",
    "You don't need to submit this cell; you can edit and run it as much as you like."
   ]
  },
  {
   "cell_type": "code",
   "execution_count": 15,
   "metadata": {
    "id": "gTvk4HgorcDF"
   },
   "outputs": [
    {
     "data": {
      "text/plain": [
       "array([[0.5, 0. , 0.2, 0. , 0. ],\n",
       "       [0. , 0. , 0.2, 0. , 0. ],\n",
       "       [0. , 0. , 0.2, 1. , 0. ],\n",
       "       [0.5, 1. , 0.2, 0. , 1. ],\n",
       "       [0. , 0. , 0.2, 0. , 0. ]])"
      ]
     },
     "execution_count": 15,
     "metadata": {},
     "output_type": "execute_result"
    }
   ],
   "source": [
    "# Use the following function to generate internets of different sizes.\n",
    "generate_internet(5)\n"
   ]
  },
  {
   "cell_type": "code",
   "execution_count": 16,
   "metadata": {
    "id": "_qZV0Sb9rcDF"
   },
   "outputs": [],
   "source": [
    "# Test your PageRank method against the built in \"eig\" method.\n",
    "# You should see yours is a lot faster for large internets\n",
    "L = generate_internet(10)"
   ]
  },
  {
   "cell_type": "code",
   "execution_count": 17,
   "metadata": {
    "id": "gRkxQ6wFrcDF"
   },
   "outputs": [
    {
     "name": "stdout",
     "output_type": "stream",
     "text": [
      "20 iterations to convergence.\n"
     ]
    },
    {
     "data": {
      "text/plain": [
       "array([ 0.00304154,  0.00304154,  0.00304154,  0.00134543,  0.00077025,\n",
       "       99.9818275 ,  0.00304154,  0.00077025,  0.00134543,  0.00177496])"
      ]
     },
     "execution_count": 17,
     "metadata": {},
     "output_type": "execute_result"
    }
   ],
   "source": [
    "pageRank(L, 1)"
   ]
  },
  {
   "cell_type": "code",
   "execution_count": 18,
   "metadata": {
    "id": "mJTDmNddrcDF"
   },
   "outputs": [
    {
     "data": {
      "text/plain": [
       "array([ 0.00000004,  0.00000004,  0.00000004,  0.00000003,  0.00000002,\n",
       "       99.99999973,  0.00000004,  0.00000002,  0.00000003,  0.00000003])"
      ]
     },
     "execution_count": 18,
     "metadata": {},
     "output_type": "execute_result"
    }
   ],
   "source": [
    "# Do note, this is calculating the eigenvalues of the link matrix, L,\n",
    "# without any damping. It may give different results that your pageRank function.\n",
    "# If you wish, you could modify this cell to include damping.\n",
    "# (There is no credit for this though)\n",
    "eVals, eVecs = la.eig(L) # Gets the eigenvalues and vectors\n",
    "order = np.absolute(eVals).argsort()[::-1] # Orders them by their eigenvalues\n",
    "eVals = eVals[order]\n",
    "eVecs = eVecs[:,order]\n",
    "\n",
    "r = eVecs[:, 0]\n",
    "100 * np.real(r / np.sum(r))"
   ]
  },
  {
   "cell_type": "code",
   "execution_count": 19,
   "metadata": {
    "id": "X6W-TmzorcDF"
   },
   "outputs": [
    {
     "name": "stdout",
     "output_type": "stream",
     "text": [
      "Populating the interactive namespace from numpy and matplotlib\n",
      "36 iterations to convergence.\n"
     ]
    },
    {
     "data": {
      "application/javascript": [
       "/* Put everything inside the global mpl namespace */\n",
       "window.mpl = {};\n",
       "\n",
       "\n",
       "mpl.get_websocket_type = function() {\n",
       "    if (typeof(WebSocket) !== 'undefined') {\n",
       "        return WebSocket;\n",
       "    } else if (typeof(MozWebSocket) !== 'undefined') {\n",
       "        return MozWebSocket;\n",
       "    } else {\n",
       "        alert('Your browser does not have WebSocket support. ' +\n",
       "              'Please try Chrome, Safari or Firefox ≥ 6. ' +\n",
       "              'Firefox 4 and 5 are also supported but you ' +\n",
       "              'have to enable WebSockets in about:config.');\n",
       "    };\n",
       "}\n",
       "\n",
       "mpl.figure = function(figure_id, websocket, ondownload, parent_element) {\n",
       "    this.id = figure_id;\n",
       "\n",
       "    this.ws = websocket;\n",
       "\n",
       "    this.supports_binary = (this.ws.binaryType != undefined);\n",
       "\n",
       "    if (!this.supports_binary) {\n",
       "        var warnings = document.getElementById(\"mpl-warnings\");\n",
       "        if (warnings) {\n",
       "            warnings.style.display = 'block';\n",
       "            warnings.textContent = (\n",
       "                \"This browser does not support binary websocket messages. \" +\n",
       "                    \"Performance may be slow.\");\n",
       "        }\n",
       "    }\n",
       "\n",
       "    this.imageObj = new Image();\n",
       "\n",
       "    this.context = undefined;\n",
       "    this.message = undefined;\n",
       "    this.canvas = undefined;\n",
       "    this.rubberband_canvas = undefined;\n",
       "    this.rubberband_context = undefined;\n",
       "    this.format_dropdown = undefined;\n",
       "\n",
       "    this.image_mode = 'full';\n",
       "\n",
       "    this.root = $('<div/>');\n",
       "    this._root_extra_style(this.root)\n",
       "    this.root.attr('style', 'display: inline-block');\n",
       "\n",
       "    $(parent_element).append(this.root);\n",
       "\n",
       "    this._init_header(this);\n",
       "    this._init_canvas(this);\n",
       "    this._init_toolbar(this);\n",
       "\n",
       "    var fig = this;\n",
       "\n",
       "    this.waiting = false;\n",
       "\n",
       "    this.ws.onopen =  function () {\n",
       "            fig.send_message(\"supports_binary\", {value: fig.supports_binary});\n",
       "            fig.send_message(\"send_image_mode\", {});\n",
       "            if (mpl.ratio != 1) {\n",
       "                fig.send_message(\"set_dpi_ratio\", {'dpi_ratio': mpl.ratio});\n",
       "            }\n",
       "            fig.send_message(\"refresh\", {});\n",
       "        }\n",
       "\n",
       "    this.imageObj.onload = function() {\n",
       "            if (fig.image_mode == 'full') {\n",
       "                // Full images could contain transparency (where diff images\n",
       "                // almost always do), so we need to clear the canvas so that\n",
       "                // there is no ghosting.\n",
       "                fig.context.clearRect(0, 0, fig.canvas.width, fig.canvas.height);\n",
       "            }\n",
       "            fig.context.drawImage(fig.imageObj, 0, 0);\n",
       "        };\n",
       "\n",
       "    this.imageObj.onunload = function() {\n",
       "        fig.ws.close();\n",
       "    }\n",
       "\n",
       "    this.ws.onmessage = this._make_on_message_function(this);\n",
       "\n",
       "    this.ondownload = ondownload;\n",
       "}\n",
       "\n",
       "mpl.figure.prototype._init_header = function() {\n",
       "    var titlebar = $(\n",
       "        '<div class=\"ui-dialog-titlebar ui-widget-header ui-corner-all ' +\n",
       "        'ui-helper-clearfix\"/>');\n",
       "    var titletext = $(\n",
       "        '<div class=\"ui-dialog-title\" style=\"width: 100%; ' +\n",
       "        'text-align: center; padding: 3px;\"/>');\n",
       "    titlebar.append(titletext)\n",
       "    this.root.append(titlebar);\n",
       "    this.header = titletext[0];\n",
       "}\n",
       "\n",
       "\n",
       "\n",
       "mpl.figure.prototype._canvas_extra_style = function(canvas_div) {\n",
       "\n",
       "}\n",
       "\n",
       "\n",
       "mpl.figure.prototype._root_extra_style = function(canvas_div) {\n",
       "\n",
       "}\n",
       "\n",
       "mpl.figure.prototype._init_canvas = function() {\n",
       "    var fig = this;\n",
       "\n",
       "    var canvas_div = $('<div/>');\n",
       "\n",
       "    canvas_div.attr('style', 'position: relative; clear: both; outline: 0');\n",
       "\n",
       "    function canvas_keyboard_event(event) {\n",
       "        return fig.key_event(event, event['data']);\n",
       "    }\n",
       "\n",
       "    canvas_div.keydown('key_press', canvas_keyboard_event);\n",
       "    canvas_div.keyup('key_release', canvas_keyboard_event);\n",
       "    this.canvas_div = canvas_div\n",
       "    this._canvas_extra_style(canvas_div)\n",
       "    this.root.append(canvas_div);\n",
       "\n",
       "    var canvas = $('<canvas/>');\n",
       "    canvas.addClass('mpl-canvas');\n",
       "    canvas.attr('style', \"left: 0; top: 0; z-index: 0; outline: 0\")\n",
       "\n",
       "    this.canvas = canvas[0];\n",
       "    this.context = canvas[0].getContext(\"2d\");\n",
       "\n",
       "    var backingStore = this.context.backingStorePixelRatio ||\n",
       "\tthis.context.webkitBackingStorePixelRatio ||\n",
       "\tthis.context.mozBackingStorePixelRatio ||\n",
       "\tthis.context.msBackingStorePixelRatio ||\n",
       "\tthis.context.oBackingStorePixelRatio ||\n",
       "\tthis.context.backingStorePixelRatio || 1;\n",
       "\n",
       "    mpl.ratio = (window.devicePixelRatio || 1) / backingStore;\n",
       "\n",
       "    var rubberband = $('<canvas/>');\n",
       "    rubberband.attr('style', \"position: absolute; left: 0; top: 0; z-index: 1;\")\n",
       "\n",
       "    var pass_mouse_events = true;\n",
       "\n",
       "    canvas_div.resizable({\n",
       "        start: function(event, ui) {\n",
       "            pass_mouse_events = false;\n",
       "        },\n",
       "        resize: function(event, ui) {\n",
       "            fig.request_resize(ui.size.width, ui.size.height);\n",
       "        },\n",
       "        stop: function(event, ui) {\n",
       "            pass_mouse_events = true;\n",
       "            fig.request_resize(ui.size.width, ui.size.height);\n",
       "        },\n",
       "    });\n",
       "\n",
       "    function mouse_event_fn(event) {\n",
       "        if (pass_mouse_events)\n",
       "            return fig.mouse_event(event, event['data']);\n",
       "    }\n",
       "\n",
       "    rubberband.mousedown('button_press', mouse_event_fn);\n",
       "    rubberband.mouseup('button_release', mouse_event_fn);\n",
       "    // Throttle sequential mouse events to 1 every 20ms.\n",
       "    rubberband.mousemove('motion_notify', mouse_event_fn);\n",
       "\n",
       "    rubberband.mouseenter('figure_enter', mouse_event_fn);\n",
       "    rubberband.mouseleave('figure_leave', mouse_event_fn);\n",
       "\n",
       "    canvas_div.on(\"wheel\", function (event) {\n",
       "        event = event.originalEvent;\n",
       "        event['data'] = 'scroll'\n",
       "        if (event.deltaY < 0) {\n",
       "            event.step = 1;\n",
       "        } else {\n",
       "            event.step = -1;\n",
       "        }\n",
       "        mouse_event_fn(event);\n",
       "    });\n",
       "\n",
       "    canvas_div.append(canvas);\n",
       "    canvas_div.append(rubberband);\n",
       "\n",
       "    this.rubberband = rubberband;\n",
       "    this.rubberband_canvas = rubberband[0];\n",
       "    this.rubberband_context = rubberband[0].getContext(\"2d\");\n",
       "    this.rubberband_context.strokeStyle = \"#000000\";\n",
       "\n",
       "    this._resize_canvas = function(width, height) {\n",
       "        // Keep the size of the canvas, canvas container, and rubber band\n",
       "        // canvas in synch.\n",
       "        canvas_div.css('width', width)\n",
       "        canvas_div.css('height', height)\n",
       "\n",
       "        canvas.attr('width', width * mpl.ratio);\n",
       "        canvas.attr('height', height * mpl.ratio);\n",
       "        canvas.attr('style', 'width: ' + width + 'px; height: ' + height + 'px;');\n",
       "\n",
       "        rubberband.attr('width', width);\n",
       "        rubberband.attr('height', height);\n",
       "    }\n",
       "\n",
       "    // Set the figure to an initial 600x600px, this will subsequently be updated\n",
       "    // upon first draw.\n",
       "    this._resize_canvas(600, 600);\n",
       "\n",
       "    // Disable right mouse context menu.\n",
       "    $(this.rubberband_canvas).bind(\"contextmenu\",function(e){\n",
       "        return false;\n",
       "    });\n",
       "\n",
       "    function set_focus () {\n",
       "        canvas.focus();\n",
       "        canvas_div.focus();\n",
       "    }\n",
       "\n",
       "    window.setTimeout(set_focus, 100);\n",
       "}\n",
       "\n",
       "mpl.figure.prototype._init_toolbar = function() {\n",
       "    var fig = this;\n",
       "\n",
       "    var nav_element = $('<div/>');\n",
       "    nav_element.attr('style', 'width: 100%');\n",
       "    this.root.append(nav_element);\n",
       "\n",
       "    // Define a callback function for later on.\n",
       "    function toolbar_event(event) {\n",
       "        return fig.toolbar_button_onclick(event['data']);\n",
       "    }\n",
       "    function toolbar_mouse_event(event) {\n",
       "        return fig.toolbar_button_onmouseover(event['data']);\n",
       "    }\n",
       "\n",
       "    for(var toolbar_ind in mpl.toolbar_items) {\n",
       "        var name = mpl.toolbar_items[toolbar_ind][0];\n",
       "        var tooltip = mpl.toolbar_items[toolbar_ind][1];\n",
       "        var image = mpl.toolbar_items[toolbar_ind][2];\n",
       "        var method_name = mpl.toolbar_items[toolbar_ind][3];\n",
       "\n",
       "        if (!name) {\n",
       "            // put a spacer in here.\n",
       "            continue;\n",
       "        }\n",
       "        var button = $('<button/>');\n",
       "        button.addClass('ui-button ui-widget ui-state-default ui-corner-all ' +\n",
       "                        'ui-button-icon-only');\n",
       "        button.attr('role', 'button');\n",
       "        button.attr('aria-disabled', 'false');\n",
       "        button.click(method_name, toolbar_event);\n",
       "        button.mouseover(tooltip, toolbar_mouse_event);\n",
       "\n",
       "        var icon_img = $('<span/>');\n",
       "        icon_img.addClass('ui-button-icon-primary ui-icon');\n",
       "        icon_img.addClass(image);\n",
       "        icon_img.addClass('ui-corner-all');\n",
       "\n",
       "        var tooltip_span = $('<span/>');\n",
       "        tooltip_span.addClass('ui-button-text');\n",
       "        tooltip_span.html(tooltip);\n",
       "\n",
       "        button.append(icon_img);\n",
       "        button.append(tooltip_span);\n",
       "\n",
       "        nav_element.append(button);\n",
       "    }\n",
       "\n",
       "    var fmt_picker_span = $('<span/>');\n",
       "\n",
       "    var fmt_picker = $('<select/>');\n",
       "    fmt_picker.addClass('mpl-toolbar-option ui-widget ui-widget-content');\n",
       "    fmt_picker_span.append(fmt_picker);\n",
       "    nav_element.append(fmt_picker_span);\n",
       "    this.format_dropdown = fmt_picker[0];\n",
       "\n",
       "    for (var ind in mpl.extensions) {\n",
       "        var fmt = mpl.extensions[ind];\n",
       "        var option = $(\n",
       "            '<option/>', {selected: fmt === mpl.default_extension}).html(fmt);\n",
       "        fmt_picker.append(option);\n",
       "    }\n",
       "\n",
       "    // Add hover states to the ui-buttons\n",
       "    $( \".ui-button\" ).hover(\n",
       "        function() { $(this).addClass(\"ui-state-hover\");},\n",
       "        function() { $(this).removeClass(\"ui-state-hover\");}\n",
       "    );\n",
       "\n",
       "    var status_bar = $('<span class=\"mpl-message\"/>');\n",
       "    nav_element.append(status_bar);\n",
       "    this.message = status_bar[0];\n",
       "}\n",
       "\n",
       "mpl.figure.prototype.request_resize = function(x_pixels, y_pixels) {\n",
       "    // Request matplotlib to resize the figure. Matplotlib will then trigger a resize in the client,\n",
       "    // which will in turn request a refresh of the image.\n",
       "    this.send_message('resize', {'width': x_pixels, 'height': y_pixels});\n",
       "}\n",
       "\n",
       "mpl.figure.prototype.send_message = function(type, properties) {\n",
       "    properties['type'] = type;\n",
       "    properties['figure_id'] = this.id;\n",
       "    this.ws.send(JSON.stringify(properties));\n",
       "}\n",
       "\n",
       "mpl.figure.prototype.send_draw_message = function() {\n",
       "    if (!this.waiting) {\n",
       "        this.waiting = true;\n",
       "        this.ws.send(JSON.stringify({type: \"draw\", figure_id: this.id}));\n",
       "    }\n",
       "}\n",
       "\n",
       "\n",
       "mpl.figure.prototype.handle_save = function(fig, msg) {\n",
       "    var format_dropdown = fig.format_dropdown;\n",
       "    var format = format_dropdown.options[format_dropdown.selectedIndex].value;\n",
       "    fig.ondownload(fig, format);\n",
       "}\n",
       "\n",
       "\n",
       "mpl.figure.prototype.handle_resize = function(fig, msg) {\n",
       "    var size = msg['size'];\n",
       "    if (size[0] != fig.canvas.width || size[1] != fig.canvas.height) {\n",
       "        fig._resize_canvas(size[0], size[1]);\n",
       "        fig.send_message(\"refresh\", {});\n",
       "    };\n",
       "}\n",
       "\n",
       "mpl.figure.prototype.handle_rubberband = function(fig, msg) {\n",
       "    var x0 = msg['x0'] / mpl.ratio;\n",
       "    var y0 = (fig.canvas.height - msg['y0']) / mpl.ratio;\n",
       "    var x1 = msg['x1'] / mpl.ratio;\n",
       "    var y1 = (fig.canvas.height - msg['y1']) / mpl.ratio;\n",
       "    x0 = Math.floor(x0) + 0.5;\n",
       "    y0 = Math.floor(y0) + 0.5;\n",
       "    x1 = Math.floor(x1) + 0.5;\n",
       "    y1 = Math.floor(y1) + 0.5;\n",
       "    var min_x = Math.min(x0, x1);\n",
       "    var min_y = Math.min(y0, y1);\n",
       "    var width = Math.abs(x1 - x0);\n",
       "    var height = Math.abs(y1 - y0);\n",
       "\n",
       "    fig.rubberband_context.clearRect(\n",
       "        0, 0, fig.canvas.width / mpl.ratio, fig.canvas.height / mpl.ratio);\n",
       "\n",
       "    fig.rubberband_context.strokeRect(min_x, min_y, width, height);\n",
       "}\n",
       "\n",
       "mpl.figure.prototype.handle_figure_label = function(fig, msg) {\n",
       "    // Updates the figure title.\n",
       "    fig.header.textContent = msg['label'];\n",
       "}\n",
       "\n",
       "mpl.figure.prototype.handle_cursor = function(fig, msg) {\n",
       "    var cursor = msg['cursor'];\n",
       "    switch(cursor)\n",
       "    {\n",
       "    case 0:\n",
       "        cursor = 'pointer';\n",
       "        break;\n",
       "    case 1:\n",
       "        cursor = 'default';\n",
       "        break;\n",
       "    case 2:\n",
       "        cursor = 'crosshair';\n",
       "        break;\n",
       "    case 3:\n",
       "        cursor = 'move';\n",
       "        break;\n",
       "    }\n",
       "    fig.rubberband_canvas.style.cursor = cursor;\n",
       "}\n",
       "\n",
       "mpl.figure.prototype.handle_message = function(fig, msg) {\n",
       "    fig.message.textContent = msg['message'];\n",
       "}\n",
       "\n",
       "mpl.figure.prototype.handle_draw = function(fig, msg) {\n",
       "    // Request the server to send over a new figure.\n",
       "    fig.send_draw_message();\n",
       "}\n",
       "\n",
       "mpl.figure.prototype.handle_image_mode = function(fig, msg) {\n",
       "    fig.image_mode = msg['mode'];\n",
       "}\n",
       "\n",
       "mpl.figure.prototype.updated_canvas_event = function() {\n",
       "    // Called whenever the canvas gets updated.\n",
       "    this.send_message(\"ack\", {});\n",
       "}\n",
       "\n",
       "// A function to construct a web socket function for onmessage handling.\n",
       "// Called in the figure constructor.\n",
       "mpl.figure.prototype._make_on_message_function = function(fig) {\n",
       "    return function socket_on_message(evt) {\n",
       "        if (evt.data instanceof Blob) {\n",
       "            /* FIXME: We get \"Resource interpreted as Image but\n",
       "             * transferred with MIME type text/plain:\" errors on\n",
       "             * Chrome.  But how to set the MIME type?  It doesn't seem\n",
       "             * to be part of the websocket stream */\n",
       "            evt.data.type = \"image/png\";\n",
       "\n",
       "            /* Free the memory for the previous frames */\n",
       "            if (fig.imageObj.src) {\n",
       "                (window.URL || window.webkitURL).revokeObjectURL(\n",
       "                    fig.imageObj.src);\n",
       "            }\n",
       "\n",
       "            fig.imageObj.src = (window.URL || window.webkitURL).createObjectURL(\n",
       "                evt.data);\n",
       "            fig.updated_canvas_event();\n",
       "            fig.waiting = false;\n",
       "            return;\n",
       "        }\n",
       "        else if (typeof evt.data === 'string' && evt.data.slice(0, 21) == \"data:image/png;base64\") {\n",
       "            fig.imageObj.src = evt.data;\n",
       "            fig.updated_canvas_event();\n",
       "            fig.waiting = false;\n",
       "            return;\n",
       "        }\n",
       "\n",
       "        var msg = JSON.parse(evt.data);\n",
       "        var msg_type = msg['type'];\n",
       "\n",
       "        // Call the  \"handle_{type}\" callback, which takes\n",
       "        // the figure and JSON message as its only arguments.\n",
       "        try {\n",
       "            var callback = fig[\"handle_\" + msg_type];\n",
       "        } catch (e) {\n",
       "            console.log(\"No handler for the '\" + msg_type + \"' message type: \", msg);\n",
       "            return;\n",
       "        }\n",
       "\n",
       "        if (callback) {\n",
       "            try {\n",
       "                // console.log(\"Handling '\" + msg_type + \"' message: \", msg);\n",
       "                callback(fig, msg);\n",
       "            } catch (e) {\n",
       "                console.log(\"Exception inside the 'handler_\" + msg_type + \"' callback:\", e, e.stack, msg);\n",
       "            }\n",
       "        }\n",
       "    };\n",
       "}\n",
       "\n",
       "// from http://stackoverflow.com/questions/1114465/getting-mouse-location-in-canvas\n",
       "mpl.findpos = function(e) {\n",
       "    //this section is from http://www.quirksmode.org/js/events_properties.html\n",
       "    var targ;\n",
       "    if (!e)\n",
       "        e = window.event;\n",
       "    if (e.target)\n",
       "        targ = e.target;\n",
       "    else if (e.srcElement)\n",
       "        targ = e.srcElement;\n",
       "    if (targ.nodeType == 3) // defeat Safari bug\n",
       "        targ = targ.parentNode;\n",
       "\n",
       "    // jQuery normalizes the pageX and pageY\n",
       "    // pageX,Y are the mouse positions relative to the document\n",
       "    // offset() returns the position of the element relative to the document\n",
       "    var x = e.pageX - $(targ).offset().left;\n",
       "    var y = e.pageY - $(targ).offset().top;\n",
       "\n",
       "    return {\"x\": x, \"y\": y};\n",
       "};\n",
       "\n",
       "/*\n",
       " * return a copy of an object with only non-object keys\n",
       " * we need this to avoid circular references\n",
       " * http://stackoverflow.com/a/24161582/3208463\n",
       " */\n",
       "function simpleKeys (original) {\n",
       "  return Object.keys(original).reduce(function (obj, key) {\n",
       "    if (typeof original[key] !== 'object')\n",
       "        obj[key] = original[key]\n",
       "    return obj;\n",
       "  }, {});\n",
       "}\n",
       "\n",
       "mpl.figure.prototype.mouse_event = function(event, name) {\n",
       "    var canvas_pos = mpl.findpos(event)\n",
       "\n",
       "    if (name === 'button_press')\n",
       "    {\n",
       "        this.canvas.focus();\n",
       "        this.canvas_div.focus();\n",
       "    }\n",
       "\n",
       "    var x = canvas_pos.x * mpl.ratio;\n",
       "    var y = canvas_pos.y * mpl.ratio;\n",
       "\n",
       "    this.send_message(name, {x: x, y: y, button: event.button,\n",
       "                             step: event.step,\n",
       "                             guiEvent: simpleKeys(event)});\n",
       "\n",
       "    /* This prevents the web browser from automatically changing to\n",
       "     * the text insertion cursor when the button is pressed.  We want\n",
       "     * to control all of the cursor setting manually through the\n",
       "     * 'cursor' event from matplotlib */\n",
       "    event.preventDefault();\n",
       "    return false;\n",
       "}\n",
       "\n",
       "mpl.figure.prototype._key_event_extra = function(event, name) {\n",
       "    // Handle any extra behaviour associated with a key event\n",
       "}\n",
       "\n",
       "mpl.figure.prototype.key_event = function(event, name) {\n",
       "\n",
       "    // Prevent repeat events\n",
       "    if (name == 'key_press')\n",
       "    {\n",
       "        if (event.which === this._key)\n",
       "            return;\n",
       "        else\n",
       "            this._key = event.which;\n",
       "    }\n",
       "    if (name == 'key_release')\n",
       "        this._key = null;\n",
       "\n",
       "    var value = '';\n",
       "    if (event.ctrlKey && event.which != 17)\n",
       "        value += \"ctrl+\";\n",
       "    if (event.altKey && event.which != 18)\n",
       "        value += \"alt+\";\n",
       "    if (event.shiftKey && event.which != 16)\n",
       "        value += \"shift+\";\n",
       "\n",
       "    value += 'k';\n",
       "    value += event.which.toString();\n",
       "\n",
       "    this._key_event_extra(event, name);\n",
       "\n",
       "    this.send_message(name, {key: value,\n",
       "                             guiEvent: simpleKeys(event)});\n",
       "    return false;\n",
       "}\n",
       "\n",
       "mpl.figure.prototype.toolbar_button_onclick = function(name) {\n",
       "    if (name == 'download') {\n",
       "        this.handle_save(this, null);\n",
       "    } else {\n",
       "        this.send_message(\"toolbar_button\", {name: name});\n",
       "    }\n",
       "};\n",
       "\n",
       "mpl.figure.prototype.toolbar_button_onmouseover = function(tooltip) {\n",
       "    this.message.textContent = tooltip;\n",
       "};\n",
       "mpl.toolbar_items = [[\"Home\", \"Reset original view\", \"fa fa-home icon-home\", \"home\"], [\"Back\", \"Back to previous view\", \"fa fa-arrow-left icon-arrow-left\", \"back\"], [\"Forward\", \"Forward to next view\", \"fa fa-arrow-right icon-arrow-right\", \"forward\"], [\"\", \"\", \"\", \"\"], [\"Pan\", \"Pan axes with left mouse, zoom with right\", \"fa fa-arrows icon-move\", \"pan\"], [\"Zoom\", \"Zoom to rectangle\", \"fa fa-square-o icon-check-empty\", \"zoom\"], [\"\", \"\", \"\", \"\"], [\"Download\", \"Download plot\", \"fa fa-floppy-o icon-save\", \"download\"]];\n",
       "\n",
       "mpl.extensions = [\"eps\", \"jpeg\", \"pdf\", \"png\", \"ps\", \"raw\", \"svg\", \"tif\"];\n",
       "\n",
       "mpl.default_extension = \"png\";var comm_websocket_adapter = function(comm) {\n",
       "    // Create a \"websocket\"-like object which calls the given IPython comm\n",
       "    // object with the appropriate methods. Currently this is a non binary\n",
       "    // socket, so there is still some room for performance tuning.\n",
       "    var ws = {};\n",
       "\n",
       "    ws.close = function() {\n",
       "        comm.close()\n",
       "    };\n",
       "    ws.send = function(m) {\n",
       "        //console.log('sending', m);\n",
       "        comm.send(m);\n",
       "    };\n",
       "    // Register the callback with on_msg.\n",
       "    comm.on_msg(function(msg) {\n",
       "        //console.log('receiving', msg['content']['data'], msg);\n",
       "        // Pass the mpl event to the overridden (by mpl) onmessage function.\n",
       "        ws.onmessage(msg['content']['data'])\n",
       "    });\n",
       "    return ws;\n",
       "}\n",
       "\n",
       "mpl.mpl_figure_comm = function(comm, msg) {\n",
       "    // This is the function which gets called when the mpl process\n",
       "    // starts-up an IPython Comm through the \"matplotlib\" channel.\n",
       "\n",
       "    var id = msg.content.data.id;\n",
       "    // Get hold of the div created by the display call when the Comm\n",
       "    // socket was opened in Python.\n",
       "    var element = $(\"#\" + id);\n",
       "    var ws_proxy = comm_websocket_adapter(comm)\n",
       "\n",
       "    function ondownload(figure, format) {\n",
       "        window.open(figure.imageObj.src);\n",
       "    }\n",
       "\n",
       "    var fig = new mpl.figure(id, ws_proxy,\n",
       "                           ondownload,\n",
       "                           element.get(0));\n",
       "\n",
       "    // Call onopen now - mpl needs it, as it is assuming we've passed it a real\n",
       "    // web socket which is closed, not our websocket->open comm proxy.\n",
       "    ws_proxy.onopen();\n",
       "\n",
       "    fig.parent_element = element.get(0);\n",
       "    fig.cell_info = mpl.find_output_cell(\"<div id='\" + id + \"'></div>\");\n",
       "    if (!fig.cell_info) {\n",
       "        console.error(\"Failed to find cell for figure\", id, fig);\n",
       "        return;\n",
       "    }\n",
       "\n",
       "    var output_index = fig.cell_info[2]\n",
       "    var cell = fig.cell_info[0];\n",
       "\n",
       "};\n",
       "\n",
       "mpl.figure.prototype.handle_close = function(fig, msg) {\n",
       "    var width = fig.canvas.width/mpl.ratio\n",
       "    fig.root.unbind('remove')\n",
       "\n",
       "    // Update the output cell to use the data from the current canvas.\n",
       "    fig.push_to_output();\n",
       "    var dataURL = fig.canvas.toDataURL();\n",
       "    // Re-enable the keyboard manager in IPython - without this line, in FF,\n",
       "    // the notebook keyboard shortcuts fail.\n",
       "    IPython.keyboard_manager.enable()\n",
       "    $(fig.parent_element).html('<img src=\"' + dataURL + '\" width=\"' + width + '\">');\n",
       "    fig.close_ws(fig, msg);\n",
       "}\n",
       "\n",
       "mpl.figure.prototype.close_ws = function(fig, msg){\n",
       "    fig.send_message('closing', msg);\n",
       "    // fig.ws.close()\n",
       "}\n",
       "\n",
       "mpl.figure.prototype.push_to_output = function(remove_interactive) {\n",
       "    // Turn the data on the canvas into data in the output cell.\n",
       "    var width = this.canvas.width/mpl.ratio\n",
       "    var dataURL = this.canvas.toDataURL();\n",
       "    this.cell_info[1]['text/html'] = '<img src=\"' + dataURL + '\" width=\"' + width + '\">';\n",
       "}\n",
       "\n",
       "mpl.figure.prototype.updated_canvas_event = function() {\n",
       "    // Tell IPython that the notebook contents must change.\n",
       "    IPython.notebook.set_dirty(true);\n",
       "    this.send_message(\"ack\", {});\n",
       "    var fig = this;\n",
       "    // Wait a second, then push the new image to the DOM so\n",
       "    // that it is saved nicely (might be nice to debounce this).\n",
       "    setTimeout(function () { fig.push_to_output() }, 1000);\n",
       "}\n",
       "\n",
       "mpl.figure.prototype._init_toolbar = function() {\n",
       "    var fig = this;\n",
       "\n",
       "    var nav_element = $('<div/>');\n",
       "    nav_element.attr('style', 'width: 100%');\n",
       "    this.root.append(nav_element);\n",
       "\n",
       "    // Define a callback function for later on.\n",
       "    function toolbar_event(event) {\n",
       "        return fig.toolbar_button_onclick(event['data']);\n",
       "    }\n",
       "    function toolbar_mouse_event(event) {\n",
       "        return fig.toolbar_button_onmouseover(event['data']);\n",
       "    }\n",
       "\n",
       "    for(var toolbar_ind in mpl.toolbar_items){\n",
       "        var name = mpl.toolbar_items[toolbar_ind][0];\n",
       "        var tooltip = mpl.toolbar_items[toolbar_ind][1];\n",
       "        var image = mpl.toolbar_items[toolbar_ind][2];\n",
       "        var method_name = mpl.toolbar_items[toolbar_ind][3];\n",
       "\n",
       "        if (!name) { continue; };\n",
       "\n",
       "        var button = $('<button class=\"btn btn-default\" href=\"#\" title=\"' + name + '\"><i class=\"fa ' + image + ' fa-lg\"></i></button>');\n",
       "        button.click(method_name, toolbar_event);\n",
       "        button.mouseover(tooltip, toolbar_mouse_event);\n",
       "        nav_element.append(button);\n",
       "    }\n",
       "\n",
       "    // Add the status bar.\n",
       "    var status_bar = $('<span class=\"mpl-message\" style=\"text-align:right; float: right;\"/>');\n",
       "    nav_element.append(status_bar);\n",
       "    this.message = status_bar[0];\n",
       "\n",
       "    // Add the close button to the window.\n",
       "    var buttongrp = $('<div class=\"btn-group inline pull-right\"></div>');\n",
       "    var button = $('<button class=\"btn btn-mini btn-primary\" href=\"#\" title=\"Stop Interaction\"><i class=\"fa fa-power-off icon-remove icon-large\"></i></button>');\n",
       "    button.click(function (evt) { fig.handle_close(fig, {}); } );\n",
       "    button.mouseover('Stop Interaction', toolbar_mouse_event);\n",
       "    buttongrp.append(button);\n",
       "    var titlebar = this.root.find($('.ui-dialog-titlebar'));\n",
       "    titlebar.prepend(buttongrp);\n",
       "}\n",
       "\n",
       "mpl.figure.prototype._root_extra_style = function(el){\n",
       "    var fig = this\n",
       "    el.on(\"remove\", function(){\n",
       "\tfig.close_ws(fig, {});\n",
       "    });\n",
       "}\n",
       "\n",
       "mpl.figure.prototype._canvas_extra_style = function(el){\n",
       "    // this is important to make the div 'focusable\n",
       "    el.attr('tabindex', 0)\n",
       "    // reach out to IPython and tell the keyboard manager to turn it's self\n",
       "    // off when our div gets focus\n",
       "\n",
       "    // location in version 3\n",
       "    if (IPython.notebook.keyboard_manager) {\n",
       "        IPython.notebook.keyboard_manager.register_events(el);\n",
       "    }\n",
       "    else {\n",
       "        // location in version 2\n",
       "        IPython.keyboard_manager.register_events(el);\n",
       "    }\n",
       "\n",
       "}\n",
       "\n",
       "mpl.figure.prototype._key_event_extra = function(event, name) {\n",
       "    var manager = IPython.notebook.keyboard_manager;\n",
       "    if (!manager)\n",
       "        manager = IPython.keyboard_manager;\n",
       "\n",
       "    // Check for shift+enter\n",
       "    if (event.shiftKey && event.which == 13) {\n",
       "        this.canvas_div.blur();\n",
       "        // select the cell after this one\n",
       "        var index = IPython.notebook.find_cell_index(this.cell_info[0]);\n",
       "        IPython.notebook.select(index + 1);\n",
       "    }\n",
       "}\n",
       "\n",
       "mpl.figure.prototype.handle_save = function(fig, msg) {\n",
       "    fig.ondownload(fig, null);\n",
       "}\n",
       "\n",
       "\n",
       "mpl.find_output_cell = function(html_output) {\n",
       "    // Return the cell and output element which can be found *uniquely* in the notebook.\n",
       "    // Note - this is a bit hacky, but it is done because the \"notebook_saving.Notebook\"\n",
       "    // IPython event is triggered only after the cells have been serialised, which for\n",
       "    // our purposes (turning an active figure into a static one), is too late.\n",
       "    var cells = IPython.notebook.get_cells();\n",
       "    var ncells = cells.length;\n",
       "    for (var i=0; i<ncells; i++) {\n",
       "        var cell = cells[i];\n",
       "        if (cell.cell_type === 'code'){\n",
       "            for (var j=0; j<cell.output_area.outputs.length; j++) {\n",
       "                var data = cell.output_area.outputs[j];\n",
       "                if (data.data) {\n",
       "                    // IPython >= 3 moved mimebundle to data attribute of output\n",
       "                    data = data.data;\n",
       "                }\n",
       "                if (data['text/html'] == html_output) {\n",
       "                    return [cell, data, j];\n",
       "                }\n",
       "            }\n",
       "        }\n",
       "    }\n",
       "}\n",
       "\n",
       "// Register the function which deals with the matplotlib target/channel.\n",
       "// The kernel may be null if the page has been refreshed.\n",
       "if (IPython.notebook.kernel != null) {\n",
       "    IPython.notebook.kernel.comm_manager.register_target('matplotlib', mpl.mpl_figure_comm);\n",
       "}\n"
      ],
      "text/plain": [
       "<IPython.core.display.Javascript object>"
      ]
     },
     "metadata": {},
     "output_type": "display_data"
    },
    {
     "data": {
      "text/html": [
       "<img src=\"data:image/png;base64,iVBORw0KGgoAAAANSUhEUgAAAyAAAAJYCAYAAACadoJwAAAgAElEQVR4Xu3dC+yUdXb/8VNFDIolUbMsKyjIUuOqKKDWC62mf4USBQzQFl0i7IqLsqtudGVVmgiNVzRaxQtaNkC8RMqlqbopaKslFfECW0Sy6CqK4gpVXDGiVEH2n+/T/bH84HeZM/N85nl+c96TbP7945kzz7zOmWfO+c3tT37/+9//3rgggAACCCCAAAIIIIAAAnUQ+BMWkDoocxMIIIAAAggggAACCCCQCbCA0AgIIIAAAggggAACCCBQNwEWkLpRc0MIIIAAAggggAACCCDAAkIPIIAAAggggAACCCCAQN0EWEDqRs0NIYAAAggggAACCCCAAAsIPYAAAggggAACCCCAAAJ1E2ABqRs1N4QAAggggAACCCCAAAIsIPQAAggggAACCCCAAAII1E2ABaRu1NwQAggggAACCCCAAAIIsIDQAwgggAACCCCAAAIIIFA3ARaQulFzQwgggAACCCCAAAIIIMACQg8ggAACCCCAAAIIIIBA3QRYQOpGzQ0hgAACCCCAAAIIIIAACwg9gAACCCCAAAIIIIAAAnUTYAGpGzU3hAACCCCAAAIIIIAAAiwg9AACCCCAAAIIIIAAAgjUTYAFpG7U3BACCCCAAAIIIIAAAgiwgNADCCCAAAIIIIAAAgggUDcBFpC6UXNDCCCAAAIIIIAAAgggwAJCDyCAAAIIIIAAAggggEDdBFhA6kbNDSGAAAIIIIAAAggggAALCD2AAAIIIIAAAggggAACdRNgAakbNTeEAAIIIIAAAggggAACLCD0AAIIIIAAAggggAACCNRNgAWkbtTcEAIIIIAAAggggAACCLCA0AMIIIAAAggggAACCCBQNwEWkLpRc0MIIIAAAggggAACCCDAAkIPIIAAAggggAACCCCAQN0EWEDqRs0NIYAAAggggAACCCCAAAsIPYAAAggggAACCCCAAAJ1E2ABqRs1N4QAAggggAACCCCAAAIsIPQAAggggAACCCCAAAII1E2ABaRu1NwQAggggAACCCCAAAIIsIDQAwgggAACCCCAAAIIIFA3ARaQulFzQwgggAACCCCAAAIIIMACQg8ggAACCCCAAAIIIIBA3QRYQOpGzQ0hgAACCCCAAAIIIIAACwg9gAACCCCAAAIIIIAAAnUTYAGpGzU3hAACCCCAAAIIIIAAAiwg9AACCCCAAAIIIIAAAgjUTYAFpG7U3BACCCCAAAIIIIAAAgiwgNADCCCAAAIIIIAAAgggUDcBFpC6UXNDCCCAAAIIIIAAAgggwAJCDyCAAAIIIIAAAggggEDdBFhA6kbNDSGAAAIIIIAAAggggAALCD2AAAIIIIAAAggggAACdRNgAakbNTeEAAIIIIAAAggggAACLCD0AAIIIIAAAggggAACCNRNgAWkbtTcEAIIIIAAAggggAACCLCA0AMIIIAAAggggAACCCBQNwEWkLpRc0MIIIAAAggggAACCCDAAkIPIIAAAggggAACCCCAQN0EWEDqRs0NIYAAAggggAACCCCAAAsIPYAAAggggAACCCCAAAJ1E2ABqRs1N4QAAggggAACCCCAAAIsIPQAAggggAACCCCAAAII1E2ABaRu1NwQAggggAACCCCAAAIIsIDQAwgggAACCCCAAAIIIFA3ARaQulFzQwgggAACCCCAAAIIIMACQg8ggAACCCCAAAIIIIBA3QRYQOpGzQ0hgAACCCCAAAIIIIAACwg9gAACCCCAAAIIIIAAAnUTYAGpGzU3hAACCCCAAAIIIIAAAiwg9AACCCCAAAIIIIAAAgjUTYAFpG7U3BACCCCAAAIIIIAAAgiwgNADCCCAAAIIIIAAAgggUDcBFpC6UXNDCCCAAAIIIIAAAgggwAJCDyCAAAIIIIAAAggggEDdBFhA6kbNDSGAAAIIIIAAAggggAALCD2AAAIIIIAAAggggAACdRNgAakbdfs3tGXLFlu6dKn17t3bunTp0v4ViEAAAQQQQAABBBCoq8D27dttw4YNNnToUDv88MPretuNcmMsICWq5GOPPWbjxo0r0RFxKAgggAACCCCAAAItCTz66KP2/e9/H5wqBFhAqkBTXWX58uU2ePBgSw197LHHqm6GvAgggAACCCCAAAJVCqxbty77g/ELL7xgZ555ZpVZYl+NBaRE9f/Vr35lgwYNslWrVtnAgQNLdGQcCgIIIIAAAggggEASYF6rvQ9YQGo3zC0DDZ0bJYkQQAABBBBAAAGJAPNa7awsILUb5paBhs6NkkQIIIAAAggggIBEgHmtdlYWkNoNc8tAQ+dGSSIEEEAAAQQQQEAiwLxWOysLSO2GuWWgoXOjJBECCCCAAAIIICARYF6rnZUFpHbD3DLQ0LlRkggBBBBAAAEEEJAIMK/VzsoCUrthbhlo6NwoSYQAAggggAACCEgEmNdqZ2UBqd0wtww0dG6UJEIAAQQQQAABBCQCzGu1szbUArJy5crsR/yee+45e/fdd+3ggw+24447zq6//no755xzmml98803dscdd9js2bNt48aN1qtXL5s4caJde+21tv/++1cku3btWpsyZUr2QzTpkn5EcMaMGXb88cdXdP29g2joqti4EgIIIIAAAgggUDcB5rXaqRtqARkzZowtW7bMRo8enf2Q37Zt22zOnDmWFoUHHnjALr/88t1ikydPtgcffNB+8IMf2BlnnGEvvvhiFpv+/f77729X9q233rJTTjnFDj30ULviiiuy+Hvvvde2bt1qr7zyivXr16/dHCwgbiKugAACCCCAAAIIFCrAAlI7f0MtIMuXL7eTTz7ZDjzwwN0y27dvt5NOOsk+/vhj++ijj6xTp072+uuv24knnpgtDvfcc8/u2Kuuuspmzpxpr732mp1wwglt6qZlZ8mSJbZu3brs1ZN0Sa+kHHvssTZs2DBbsGCBuzo0tJuMKyCAAAIIIIAAAnUVYF6rnbuhFpDWOK655hq766677P3338+WhalTp9ott9xi77zzjvXp02f31dLbto4++mi74YYb7Oabb25VN72ycthhh9nYsWNt3rx5zeLGjx9v8+fPty1btljXrl1dFaKhXVwEI4AAAggggAACdRdgXqudPMQCcuGFF9rChQuzt0elz4UMHTo0e5Vj8+bN+wh2797dBgwYkL260dplxYoV2du20lu4LrvssmZh6d/S27hSzGmnneaqEA3t4iIYAQQQQAABBBCouwDzWu3kDb+ApLdIpbdgnX/++bZo0aJMLL29qnPnzrZq1ap9BNNnR3bs2JG9Tau1S8qT3oL15JNP2vDhw5uFpX8bOXJktvCkz6K0dtm0aZOl/+15Scc6bty47LjScXBBAAEEEEAAAQQQKJcAC0jt9WjoBeSzzz6z008/PRv00yseRx55ZCbWt29fS690pA+e731Jr2ykz4q8/fbbreo+8sgjdvHFF9vSpUttyJAhzeKeeeaZ7BWWFJOWidYu06ZNs+nTp7f4n1lAam9sMiCAAAIIIIAAAgoBFpDaVRt2AUkfPk+LwKuvvpq9neqss87arcUrILU3DhkQQAABBBBAAIGIAiwgtVe9IReQr7/+2kaMGJH9HsjixYuzt1/teeEzILU3DhkQQAABBBBAAIGIAiwgtVe94RaQnTt3Zp/PeOqpp+yxxx7Lvqlq70v6lqtbb71V9i1YTzzxhH3yySd8C1bt/UkGBBBAAAEEEECgVAIsILWXo6EWkF27dtlFF12UfQ3uww8/bJdeemmLQunzIOmbrlr7HZDVq1db//79s+umD6SvX7/eunXrZj169NidL33APH0G5I033rCePXtm/970OyDpFZamD7x7SkRDe7SIRQABBBBAAAEE6i/AvFa7eUMtIFdffbXdfffd2ec9Jk6cuI/Oueeem334PF3S1+c+9NBD2S+hn3nmmZZ+xDD9EvqkSZNs1qxZu6+7YcOG7LdC0u97zJ07d/e/v/nmm3bqqadmvwdy5ZVXZv+efgk9vfKRfgn9mGOOcVeHhnaTcQUEEEAAAQQQQKCuAsxrtXM31AJy9tln27Jly1pVef755y3FpEt6q9aMGTNs9uzZ9sEHH2SvYqSlZcqUKdmvpTddWltA0n9fs2ZNFp+Wl3QZPHiw3X777btfPfGWJ0JD977ul/uwbLjtPC8V8QgggAACCCCAQCECEeY1NWxDLSBqLHX+CA3NAqLuIvIjgAACCCCAgFIgwrym9Eu5WUDUwo78ERqaBcTREIQigAACCCCAQOkEIsxranQWELWwI3+EhmYBcTQEoQgggAACCCBQOoEI85oanQVELezIH6GhWUAcDUEoAggggAACCJROIMK8pkZnAVELO/JHaGgWEEdDEIoAAggggAACpROIMK+p0VlA1MKO/BEamgXE0RCEIoAAAggggEDpBCLMa2p0FhC1sCN/hIZmAXE0BKEIIIAAAgggUDqBCPOaGp0FRC3syB+hoVlAHA1BKAIIIIAAAgiUTiDCvKZGZwFRCzvyR2hoFhBHQxCKAAIIIIAAAqUTiDCvqdFZQNTCjvwRGpoFxNEQhCKAAAIIIIBA6QQizGtqdBYQtbAjf4SGZgFxNAShCCCAAAIIIFA6gQjzmhqdBUQt7MgfoaFZQBwNQSgCCCCAAAIIlE4gwrymRmcBUQs78kdoaBYQR0MQigACCCCAAAKlE4gwr6nRWUDUwo78ERqaBcTREIQigAACCCCAQOkEIsxranQWELWwI3+EhmYBcTQEoQgggAACCCBQOoEI85oanQVELezIH6GhWUAcDUEoAggggAACCJROIMK8pkZnAVELO/JHaGgWEEdDEIoAAggggAACpROIMK+p0VlA1MKO/BEamgXE0RCEIoAAAggggEDpBCLMa2p0FhC1sCN/hIZmAXE0BKEIIIAAAgggUDqBCPOaGp0FRC3syB+hoVlAHA1BKAIIIIAAAgiUTiDCvKZGZwFRCzvyR2hoFhBHQxCKAAIIIIAAAqUTiDCvqdFZQNTCjvwRGpoFxNEQhCKAAAIIIIBA6QQizGtqdBYQtbAjf4SGZgFxNAShCCCAAAIIIFA6gQjzmhqdBUQt7MgfoaFZQBwNQSgCCCCAAAIIlE4gwrymRmcBUQs78kdoaBYQR0MQigACCCCAAAKlE4gwr6nRWUDUwo78ERqaBcTREIQigAACCCCAQOkEIsxranQWELWwI3+EhmYBcTQEoQgggAACCCBQOoEI85oanQVELezIH6GhWUAcDUEoAggggAACCJROIMK8pkZnAVELO/JHaGgWEEdDEIoAAggggAACpROIMK+p0VlA1MKO/BEamgXE0RCEIoAAAggggEDpBCLMa2p0FhC1sCN/hIZmAXE0BKEIIIAAAgggUDqBCPOaGp0FRC3syB+hoVlAHA1BKAIIIIAAAgiUTiDCvKZGZwFRCzvyR2hoFhBHQxCKAAIIIIAAAqUTiDCvqdFZQNTCjvwRGpoFxNEQhCKAAAIIIIBA6QQizGtqdBYQtbAjf4SGZgFxNAShCCCAAAIIIFA6gQjzmhqdBUQt7MgfoaFZQBwNQSgCCCCAAAIIlE4gwrymRmcBUQs78kdoaBYQR0MQigACCCCAAAKlE4gwr6nRWUDUwo78ERqaBcTREIQigAACCCCAQOkEIsxranQWELWwI3+EhmYBcTQEoQgggAACCCBQOoEI85oanQVELezIH6GhWUAcDUEoAggggAACCJROIMK8pkZnAVELO/JHaGgWEEdDEIoAAggggAACpROIMK+p0VlA1MKO/BEamgXE0RCEIoAAAggggEDpBCLMa2p0FhC1sCN/hIZmAXE0BKEIIIAAAgggUDqBCPOaGr2hFpBt27bZnXfeaatWrbKVK1fa5s2bbfz48TZ37txmjhMmTLB58+a1anvTTTfZ1KlT27RvK8fGjRutZ8+e7tpFaGgWEHdbcAUEEEAAAQQQKJFAhHlNzd1QC8iGDRusT58+1qNHDxs0aJA9/fTTLS4gK1assPXr1+9je88992SLS1pgBg4cWNECkhaZ/fbbr1nsqFGj7KCDDnLXLkJDs4C424IrIIAAAggggECJBCLMa2ruhlpAvvrqK9uyZYsdccQRtnPnTjvggANaXEBaQv3yyy/t29/+tvXu3dvWrFnTrnvTKyA7duywTp06tRtfSUCEhmYBqaQTiEEAAQQQQACBsgpEmNfU9g21gOyJ5V1AHnvsMRs3blz2Fq5rrrmmXfemBeTrr7+27du3W9euXfd5JaTdJHsFRGhoFhBvVxCPAAIIIIAAAmUSiDCvqb1ZQP4gPGTIEHv++eftgw8+sO7du7fr3rSAHHLIIfb5559bly5dbNiwYTZjxgzr27dvu9dvKSBCQ7OAVNUaXAkBBBBAAAEESiIQYV5TU7OAmNlvf/tbO/LII7MFIn1upJLLddddZ+ntV+mzJgceeKC99NJLNnPmTEsLSfocyVFHHdVmmk2bNln6356XdevWZa/CVPIZlEqOsYwxLCBlrArHhAACCCCAAAKVCrCAVCrVehwLiJnddtttdv3119uCBQtszJgxVas+++yzll5Jaembt/ZOOm3aNJs+fXqLt8UCUnUJuCICCCCAAAIIICAVYAGpnZcFxMy+973vZV/Zm16RSK9m1HJJr4ikPB9++CGvgLQgwCsgtXQX10UAAQQQQACBogVYQGqvQPgF5NVXX7VTTz3VJk+ebPfff3/NoukreNPbuNKH072XCA3NAuLtCuIRQAABBBBAoEwCEeY1tXf4BeQnP/lJtni8/PLL2SJS66V///726aefWvoxQu8lQkOzgHi7gngEEEAAAQQQKJNAhHlN7R16AUmvUnznO9+xb33rW/brX/+6Rev0QfP0o4XdunXLfuAwXb744ovstz/2frvW/PnzbezYsTZp0iSbNWuWu3YRGpoFxN0WXAEBBBBAAAEESiQQYV5TczfcAnLffffZ1q1bbdeuXXbjjTfagAEDLL0tKl1GjBhh6RWKpsvixYtt9OjR2YfQf/7zn7do3fTr6nt+sHz16tV23nnn2QUXXGD9+vWzzp07W/p19ccff9x69eqVvZpSyVf57n2DERqaBUT9kCY/AggggAACCCgFIsxrSr+Uu+EWkPRL5u+9916LbnPmzLH0+x1Nl5EjR2af10hvl0qvhLR0aWkBSR9YTz9WmD4/kj5snl4lSYvH8OHDberUqXb44YdXVbcIDc0CUlVrcCUEEEAAAQQQKIlAhHlNTd1wC4gaTJk/QkOzgCg7iNwIIIAAAgggoBaIMK+pDVlA1MKO/BEamgXE0RCEIoAAAggggEDpBCLMa2p0FhC1sCN/hIZmAXE0BKEIIIAAAgggUDqBCPOaGp0FRC3syB+hoVlAHA1BKAIIIIAAAgiUTiDCvKZGZwFRCzvyR2hoFhBHQxCKAAIIIIAAAqUTiDCvqdFZQNTCjvwRGpoFxNEQhCKAAAIIIIBA6QQizGtqdBYQtbAjf4SGZgFxNAShCCCAAAIIIFA6gQjzmhqdBUQt7MgfoaFZQBwNQSgCCCCAAAIIlE4gwrymRmcBUQs78kdoaBYQR0MQigACCCCAAAKlE4gwr6nRWUDUwo78ERqaBcTREIQigAACCCCAQOkEIsxranQWELWwI3+EhmYBcTQEoQgggAACCCBQOoEI85oanQVELezIH6GhWUAcDUEoAggggAACCJROIMK8pkZnAVELO/JHaGgWEEdDEIoAAggggAACpROIMK+p0VlA1MKO/BEamgXE0RCEIoAAAggggEDpBCLMa2p0FhC1sCN/hIZmAXE0BKEIIIAAAgggUDqBCPOaGp0FRC3syB+hoVlAHA1BKAIIIIAAAgiUTiDCvKZGZwFRCzvyR2hoFhBHQxCKAAIIIIAAAqUTiDCvqdFZQNTCjvwRGpoFxNEQhCKAAAIIIIBA6QQizGtqdBYQtbAjf4SGZgFxNAShCCCAAAIIIFA6gQjzmhqdBUQt7MgfoaFZQBwNQSgCCCCAAAIIlE4gwrymRmcBUQs78kdoaBYQR0MQigACCCCAAAKlE4gwr6nRWUDUwo78ERqaBcTREIQigAACCCCAQOkEIsxranQWELWwI3+EhmYBcTQEoQgggAACCCBQOoEI85oanQVELezIH6GhWUAcDUEoAggggAACCJROIMK8pkZnAVELO/JHaGgWEEdDEIoAAggggAACpROIMK+p0VlA1MKO/BEamgXE0RCEIoAAAggggEDpBCLMa2p0FhC1sCN/hIZmAXE0BKEIIIAAAgggUDqBCPOaGp0FRC3syB+hoVlAHA1BKAIIIIAAAgiUTiDCvKZGZwFRCzvyR2hoFhBHQxCKAAIIIIAAAqUTiDCvqdFZQNTCjvwRGpoFxNEQhCKAAAIIIIBA6QQizGtqdBYQtbAjf4SGZgFxNAShCCCAAAIIIFA6gQjzmhqdBUQt7MgfoaFZQBwNQSgCCCCAAAIIlE4gwrymRmcBUQs78kdoaBYQR0MQigACCCCAAAKlE4gwr6nRWUDUwo78ERqaBcTREIJQ/AWopEQAAQQQCCUQYV5TF5QFRC3syB+hoRmAHQ0hCMVfgEpKBBBAAIFQAhHmNXVBWUDUwo78ERqaAdjREIJQ/AWopEQAAQQQCCUQYV5TF5QFRC3syB+hoRmAHQ0hCMVfgEpKBBBAAIFQAhHmNXVBWUDUwo78ERqaAdjREIJQ/AWopEQAAQQQCCUQYV5TF5QFRC3syB+hoRmAHQ0hCMVfgEpKBBBAAIFQAhHmNXVBWUDUwo78ERqaAdjREIJQ/AWopEQAAQQQCCUQYV5TF5QFRC3syB+hoRmAHQ0hCMVfgEpKBBBAAIFQAhHmNXVBWUDUwo78ERqaAdjREIJQ/AWopEQAAQQQCCUQYV5TF5QFRC3syB+hoRmAHQ0hCMVfgEpKBBBAAIFQAhHmNXVBG2oB2bZtm9155522atUqW7lypW3evNnGjx9vc+fObea4YcMG69OnT4u2l1xyic2ePbsi97Vr19qUKVPshRdeyOIHDx5sM2bMsOOPP76i6+8dFKGhGYCrao3croR/bpQkQgABBBAIKhBhXlOXtqEWkKbFokePHjZo0CB7+umn21xARo4caWPGjGlm/N3vftdOO+20dt3feustO+WUU+zQQw+1K664Iou/9957bevWrfbKK69Yv3792s3BAvJ/AhtuO89txRWqE2ABqc6NayGAAAIIINAkwAJSey801ALy1Vdf2ZYtW+yII46wnTt32gEHHNDmAjJ16lS76aabqlJMi8uSJUts3bp11qtXryzHxo0b7dhjj7Vhw4bZggUL3HkjNDQDsLstcr0C/rlykgwBBBBAIKBAhHlNXdaGWkD2xKp0AUlLSLp06dKlYuv0Vq/DDjvMxo4da/PmzWt2vfSWr/nz52eLUNeuXSvOmQIjNDQDsKslcg/GP3dSEiKAAAIIBBOIMK+pSxp6AUkLQlom0iW99eqnP/2p/fjHP27XfMWKFXbGGWfYgw8+aJdddlmz+PRvkydPthRTyVu59rxyhIZmAG63vaQB+Et5SY4AAgggEEAgwrymLmPIBeT999+3H/7wh3bBBRfYUUcdZR9++GH2wfP0wfWf/exndscdd7TpvmjRouyzI08++aQNHz68WWz6t/TZkoULF9ro0aNbzbNp0yZL/9vzkt7ONW7cuOxD9AMHDlTXvpD8DMCFsO++UfyL9efWEUAAAQQ6vgALSO01DLmAtMT2zTff2F/91V9l32j1m9/8xvr27duq7iOPPGIXX3yxLV261IYMGdIs7plnnrGhQ4daiknLRGuXadOm2fTp01v8zywgtTc2GVoWYAGhMxBAAAEEEKhNgAWkNr90bRaQPQyfeuopGzFihD300EP2ox/9qFVdXgGpvvEYgKu3y+Oa+OehSA4EEEAAgcgCLCC1V58FZA/DNWvW2Iknnmg333yz3XDDDa3q8hmQ6huPAbh6uzyuiX8eiuRAAAEEEIgswAJSe/VZQPYwXLx4cfa5jfR5kPSDhK1d2vsWrCeeeMI++eQTvgWrBUAG4NoftLVkwL8WPa6LAAIIIIBAjG8tVdc55ALyu9/9LvsBwT0v27dvtzPPPNPSr5uvX79+92977NixI/v/d+vWzdIPHDZd0qKSPgPyxhtvWM+ePbN/bvodkPQZkPQ2Le8lwkbNAOztinzj8c/Xk2wIIIAAAvEEIsxr6qo23AJy3333Zb9GvmvXLrvxxhttwIABNmrUqMwxfb6jf//+2f//yy+/zL4mNy0P6Vuw0u95vPPOO3brrbfaddddt9u96dfV0+97zJ07d/e/v/nmm3bqqadmvwdy5ZVXZv+efgk9vfKRfgn9mGOOcdcuQkMzALvbItcr4J8rJ8kQQAABBAIKRJjX1GVtuAWkd+/e9t5777XoNmfOHJswYYL94he/yBaOtESkV0PS74Gkr7296qqrsiVlz0trC0iKSZ8ZmTJlii1fvjy7yuDBg+3222/PlpxqLhEamgG4ms7I7zr452dJJgQQQACBmAIR5jV1ZRtuAVGDKfNHaGgGYGUHtZ8b//aNiEAAAQQQQKAtgQjzmroDWEDUwo78ERqaAdjREIJQ/AWopEQAAQQQCCUQYV5TF5QFRC3syB+hoRmAHQ0hCMVfgEpKBBBAAIFQAhHmNXVBWUDUwo78ERqaAdjREIJQ/AWopEQAAQQQCCUQYV5TF5QFRC3syB+hoRmAHQ0hCMVfgEpKBBBAAIFQAhHmNXVBWUDUwo78ERqaAdjREIJQ/AWopEQAAQQQCCUQYV5TF5QFRC3syB+hoRmAHQ0hCMVfgEpKBBBAAIFQAhHmNXVBWUDUwo78ERqaAdjREIJQ/AWopEQAAQQQCCUQYV5TF5QFRC3syB+hoRmAHQ0hCMVfgEpKBBBAAIFQAhHmNXVBWUDUwo78ERqaAdjREIJQ/AWopEQAAQQQCCUQYV5TF5QFRC3syB+hoRmAHQ0hCK0S6agAACAASURBVMVfgEpKBBBAAIFQAhHmNXVBWUDUwo78ERqaAdjREIJQ/AWopEQAAQQQCCUQYV5TF5QFRC3syB+hoRmAHQ0hCMVfgEpKBBBAAIFQAhHmNXVBWUDUwo78ERqaAdjREIJQ/AWopEQAAQQQCCUQYV5TF5QFRC3syB+hoRmAHQ0hCMVfgEpKBBBAAIFQAhHmNXVBWUDUwo78ERqaAdjREIJQ/AWopEQAAQQQCCUQYV5TF5QFRC3syB+hoRmAHQ0hCMVfgEpKBBBAAIFQAhHmNXVBWUDUwo78ERqaAdjREIJQ/AWopEQAAQQQCCUQYV5TF5QFRC3syB+hoRmAHQ0hCMVfgEpKBBBAAIFQAhHmNXVBWUDUwo78ERqaAdjREIJQ/AWopEQAAQQQCCUQYV5TF5QFRC3syB+hoRmAHQ0hCMVfgEpKBBBAAIFQAhHmNXVBWUDUwo78ERqaAdjREIJQ/AWopEQAAQQQCCUQYV5TF5QFRC3syB+hoRmAHQ0hCMVfgEpKBBBAAIFQAhHmNXVBWUDUwo78ERqaAdjREIJQ/AWopEQAAQQQCCUQYV5TF5QFRC3syB+hoRmAHQ0hCMVfgEpKBBBAAIFQAhHmNXVBWUDUwo78ERqaAdjREIJQ/AWopEQAAQQQCCUQYV5TF5QFRC3syB+hoRmAHQ0hCMVfgEpKBBBAAIFQAhHmNXVBWUDUwo78ERqaAdjREIJQ/AWopEQAAQQQCCUQYV5TF5QFRC3syB+hoRmAHQ0hCMVfgEpKBBBAAIFQAhHmNXVBWUDUwo78ERqaAdjREIJQ/AWopEQAAQQQCCUQYV5TF5QFRC3syB+hoRmAHQ0hCMVfgEpKBBBAAIFQAhHmNXVBWUDUwo78ERqaAdjREIJQ/AWopEQAAQQQCCUQYV5TF5QFRC3syB+hoRmAHQ0hCMVfgEpKBBBAAIFQAhHmNXVBWUDUwo78ERqaAdjREIJQ/AWopEQAAQQQCCUQYV5TF5QFRC3syB+hoRmAHQ0hCMVfgEpKBBBAAIFQAhHmNXVBWUDUwo78ERqaAdjREIJQ/AWopEQAAQQQCCUQYV5TF5QFRC3syB+hoRmAHQ0hCMVfgEpKBBBAAIFQAhHmNXVBWUDUwo78ERqaAdjREIJQ/AWopEQAAQQQCCUQYV5TF5QFRC3syB+hoRmAHQ0hCMVfgEpKBBBAAIFQAhHmNXVBWUDUwo78ERqaAdjREIJQ/AWopEQAAQQQCCUQYV5TF5QFRC3syB+hoRmAHQ0hCMVfgEpKBBBAAIFQAhHmNXVBWUDUwo78ERqaAdjREIJQ/AWopEQAAQQQCCUQYV5TF5QFRC3syB+hoRmAHQ0hCMVfgEpKBBBAAIFQAhHmNXVBG2oB2bZtm9155522atUqW7lypW3evNnGjx9vc+fObeaY/tujjz5qzz33nL377rt28MEH23HHHWfXX3+9nXPOORWZT5gwwebNm9di7MaNG61nz54V5dkzKEJDMwC72yLXK+CfKyfJEEAAAQQCCkSY19RlbagFZMOGDdanTx/r0aOHDRo0yJ5++ukWF5AxY8bYsmXLbPTo0TZw4EBLi8ucOXNs7dq19sADD9jll1/ernvTApKWkP32269Z/KhRo+yggw5qN8feAREamgHY3Ra5XgH/XDlJhgACCCAQUCDCvKYua0MtIF999ZVt2bLFjjjiCNu5c6cdcMABLS4gy5cvt5NPPtkOPPDA3b7bt2+3k046yT7++GP76KOPrFOnTm3aNy0gO3bsaDe20iJGaGgG4Eq7QROHv8aVrAgggAACcQQizGvqajbUArInVlsLSGuo11xzjd111132/vvvW69evSpaQL7++mtLy0vXrl33eSXEW7wIDc0A7O2KfOPxz9eTbAgggAAC8QQizGvqqrKA7CF84YUX2sKFC23r1q3Z50LaujS9AnLIIYfY559/bl26dLFhw4bZjBkzrG/fvlXVLUJDMwBX1Rq5XQn/3ChJhAACCCAQVCDCvKYuLQvIH4TXrVuXvQXr/PPPt0WLFrXrft1111l6+1X6rEl6K9dLL71kM2fOtLSQpA+5H3XUUW3m2LRpk6X/7XlJxzBu3LjsQ/TpsymNeGEALraq+Bfrz60jgAACCHR8ARaQ2mvIAmJmn332mZ1++unZQvDaa6/ZkUceWZXss88+a0OGDGnxcyd7J5w2bZpNnz69xdthAamKnytVIMACUgESIQgggAACCLQhwAJSe3uEX0DS5zeGDh1qr776qi1ZssTOOuusmlTTKyJpkfnwww95BaQFAQbgmtqr5ivjXzMhCRBAAAEEgguwgNTeAKEXkPQB8hEjRmS/B7J48eLs7Ve1XtJX8Kav/025vZcIDc0A7O2KfOPxz9eTbAgggAAC8QQizGvqqoZdQNK3ZKXfA3nqqafsscces7Fjx+Zi3b9/f/v0008t/Rih9xKhoRmAvV2Rbzz++XqSDQEEEEAgnkCEeU1d1ZALyK5du+yiiy6y+fPn28MPP2yXXnppq87pg+br16+3bt26ZT9wmC5ffPFF9tsfe/6OSPr3lC8tMpMmTbJZs2a5axehoRmA3W2R6xXwz5WTZAgggAACAQUizGvqsjbcAnLfffdlX6Oblowbb7zRBgwYYOltUemS3m6VXqG4+uqr7e67784+7zFx4sR9jM8991zr3r179u9Nv64+fvx4mzt3bvZvq1evtvPOO88uuOAC69evn3Xu3NlWrFhhjz/+ePb7IS+//PLu63sKGKGhGYA9HZF/LP75m5IRAQQQQCCWQIR5TV3RhltAevfube+9916LbnPmzLH0+x1nn322LVu2rFXb559/PotpbQHZvHmzpR8tTB9cTx82T6+SpMVj+PDhNnXqVDv88MOrqluEhmYArqo1crsS/rlRkggBBBBAIKhAhHlNXdqGW0DUYMr8ERqaAVjZQe3nxr99IyIQQAABBBBoSyDCvKbuABYQtbAjf4SGZgB2NIQgFH8BKikRQAABBEIJRJjX1AVlAVELO/JHaGgGYEdDCELxF6CSEgEEEEAglECEeU1dUBYQtbAjf4SGZgB2NIQgFH8BKikRQAABBEIJRJjX1AVlAVELO/JHaGgGYEdDCELxF6CSEgEEEEAglECEeU1dUBYQtbAjf4SGZgB2NIQgFH8BKikRQAABBEIJRJjX1AVlAVELO/JHaGgGYEdDCELxF6CSEgEEEEAglECEeU1dUBYQtbAjf4SGZgB2NIQgFH8BKikRQAABBEIJRJjX1AVlAVELO/JHaGgGYEdDCELxF6CSEgEEEEAglECEeU1dUBYQtbAjf4SGZgB2NIQgFH8BKikRQAABBEIJRJjX1AVlAVELO/JHaGgGYEdDCELxF6CSEgEEEEAglECEeU1dUBYQtbAjf4SGZgB2NIQgFH8BKikRQAABBEIJRJjX1AVlAVELO/JHaGgGYEdDCELxF6CSEgEEEEAglECEeU1dUBYQtbAjf4SGZgB2NIQgFH8BKikRQAABBEIJRJjX1AVlAVELO/JHaGgGYEdDCELxF6CSEgEEEEAglECEeU1dUBYQtbAjf4SGZgB2NIQgFH8BKikRQAABBEIJRJjX1AVlAVELO/JHaGgGYEdDCELxF6CSEgEEEEAglECEeU1dUBYQtbAjf4SGZgB2NIQgFH8BKikRQAABBEIJRJjX1AVlAVELO/JHaGgGYEdDCELxF6CSEgEEEEAglECEeU1dUBYQtbAjf4SGZgB2NIQgFH8BKikRQAABBEIJRJjX1AVlAVELO/JHaGgGYEdDCELxF6CSEgEEEEAglECEeU1dUBYQtbAjf4SGZgB2NIQgFH8BKikRQAABBEIJRJjX1AVlAVELO/JHaGgGYEdDCELxF6CSEgEEEEAglECEeU1dUBYQtbAjf4SGZgB2NIQgFH8BKikRQAABBEIJRJjX1AVlAVELO/JHaGgGYEdDCELxF6CSEgEEEEAglECEeU1dUBYQtbAjf4SGZgB2NIQgFH8BKikRQAABBEIJRJjX1AVlAVELO/JHaGgGYEdDCELxF6CSEgEEEEAglECEeU1dUBYQtbAjf4SGZgB2NIQgFH8BKikRQAABBEIJRJjX1AVlAVELO/JHaGgGYEdDCELxF6CSEgEEEEAglECEeU1dUBYQtbAjf4SGZgB2NIQgFH8BKikRQAABBEIJRJjX1AVlAVELO/JHaGgGYEdDCELxF6CSEgEEEEAglECEeU1dUBYQtbAjf4SGZgB2NIQgFH8BKikRQAABBEIJRJjX1AVlAVELO/JHaGgGYEdDCELxF6CSEgEEEEAglECEeU1dUBYQtbAjf4SGZgB2NIQgFH8BKikRQAABBEIJRJjX1AVlAVELO/JHaGgGYEdDCELxF6CSEgEEEEAglECEeU1dUBYQtbAjf4SGZgB2NIQgFH8BKikRQAABBEIJRJjX1AVlAVELO/JHaGgGYEdDCELxF6CSEgEEEEAglECEeU1dUBYQtbAjf4SGZgB2NIQgFH8BKikRQAABBEIJRJjX1AVlAVELO/JHaGgGYEdDCELxF6CSEgEEEEAglECEeU1dUBYQtbAjf4SGZgB2NIQgFH8BKikRQAABBEIJRJjX1AVlAVELO/JHaGgGYEdDCELxF6CSEgEEEEAglECEeU1dUBYQtbAjf4SGZgB2NIQgFH8BKikRQAABBEIJRJjX1AVtqAVk27Ztduedd9qqVats5cqVtnnzZhs/frzNnTt3H8dvvvnG7rjjDps9e7Zt3LjRevXqZRMnTrRrr73W9t9//4rc165da1OmTLEXXnghix88eLDNmDHDjj/++Iquv3dQhIZmAK6qNXK7Ev65UZIIAQQQQCCoQIR5TV3ahlpANmzYYH369LEePXrYoEGD7Omnn251AZk8ebI9+OCD9oMf/MDOOOMMe/HFF23OnDmW/v3+++9v1/2tt96yU045xQ499FC74oorsvh7773Xtm7daq+88or169ev3RwsIP8nsOG289xWXKE6ARaQ6ty4FgIIIIAAAk0CLCC190JDLSBfffWVbdmyxY444gjbuXOnHXDAAS0uIK+//rqdeOKJ2eJwzz337Fa86qqrbObMmfbaa6/ZCSec0KbumDFjbMmSJbZu3brs1ZN0Sa+kHHvssTZs2DBbsGCBuzoRGpoB2N0WuV4B/1w5SYYAAgggEFAgwrymLmtDLSB7YrW1gEydOtVuueUWe+edd7JXTJou7777rh199NF2ww032M0339yqfXqr12GHHWZjx461efPmNYtLb/maP39+tgh17drVVb8IDc0A7GqJ3IPxz52UhAgggAACwQQizGvqkoZcQIYOHZq9ypE+I7L3pXv37jZgwIDs1Y3WLitWrMjetpXewnXZZZc1C0v/lt7GlWJOO+00V/0iNDQDsKslcg/GP3dSEiKAAAIIBBOIMK+pSxpyAUlvr+rcuXP2YfW9LwMHDrQdO3ZYeptWa5dFixZZegvWk08+acOHD28Wlv5t5MiRtnDhQhs9enSrOTZt2mTpf3te0tu5xo0blx1XOo5GvDAAF1tV/Iv159YRQAABBDq+AAtI7TUMuYD07dvX0isd6YPne1/SKxsfffSRvf32263qPvLII3bxxRfb0qVLbciQIc3innnmGUuvsKSYtEy0dpk2bZpNnz69xf/MAlJ7Y5OhZQEWEDoDAQQQQACB2gRYQGrzS9cOuYDwCkjtjVNtBgbgauXyuR7++TiSBQEEEEAgrgALSO21D7mA8BmQ2hun2gwMwNXK5XM9/PNxJAsCCCCAQFwBFpDaax9yAUnfcnXrrbfKvgXriSeesE8++YRvwWqhPxmAa3/Q1pIB/1r0uC4CCCCAAAJmLCC1d0HIBSR9A1b6pqvWfgdk9erV1r9//0w3fSB9/fr11q1bt+wHDpsu6QPm6TMgb7zxhvXs2TP756bfAUmvsKQPqnsvERqaAdjbFfnG45+vJ9kQQAABBOIJRJjX1FVtuAXkvvvuy36NfNeuXXbjjTdmi8aoUaMyxxEjRuxeLNLX5z700EPZL6GfeeaZtnz58uyX0CdNmmSzZs3a7d706+rp9z3mzp27+9/ffPNNO/XUU7PfA7nyyiuzf0+/hJ5e+Ui/hH7MMce4axehoRmA3W2R6xXwz5WTZAgggAACAQUizGvqsjbcAtK7d2977733WnRLC8aECROy/5Z+qHDGjBk2e/Zs++CDD7JXMSZOnGhTpkyxTp06tbuApIA1a9Zk8Wl5SZfBgwfb7bffvnvJ8RYvQkMzAHu7It94/PP1JBsCCCCAQDyBCPOauqoNt4CowZT5IzQ0A7Cyg9rPjX/7RkQggAACCCDQlkCEeU3dASwgamFH/ggNzQDsaAhBKP4CVFIigAACCIQSiDCvqQvKAqIWduSP0NAMwI6GEITiL0AlJQIIIIBAKIEI85q6oCwgamFH/ggNzQDsaAhBKP4CVFIigAACCIQSiDCvqQvKAqIWduSP0NAMwI6GEITiL0AlJQIIIIBAKIEI85q6oCwgamFH/ggNzQDsaAhBKP4CVFIigAACCIQSiDCvqQvKAqIWduSP0NAMwI6GEITiL0AlJQIIIIBAKIEI85q6oCwgamFH/ggNzQDsaAhBKP4CVFIigAACCIQSiDCvqQvKAqIWduSP0NAMwI6GEITiL0AlJQIIIIBAKIEI85q6oCwgamFH/ggNzQDsaAhBKP4CVFIigAACCIQSiDCvqQvKAqIWduSP0NAMwI6GEITiL0AlJQIIIIBAKIEI85q6oCwgamFH/ggNzQDsaAhBKP4CVFIigAACCIQSiDCvqQvKAqIWduSP0NAMwI6GEITiL0AlJQIIIIBAKIEI85q6oCwgamFH/ggNzQDsaAhBKP4CVFIigAACCIQSiDCvqQvKAqIWduSP0NAMwI6GEITiL0AlJQIIIIBAKIEI85q6oCwgamFH/ggNzQDsaAhBKP4CVFIigAACCIQSiDCvqQvKAqIWduSP0NAMwI6GEITiL0AlJQIIIIBAKIEI85q6oCwgamFH/ggNzQDsaAhBKP4CVFIigAACCIQSiDCvqQvKAqIWduSP0NAMwI6GEITiL0AlJQIIIIBAKIEI85q6oCwgamFH/ggNzQDsaAhBKP4CVFIigAACCIQSiDCvqQvKAqIWduSP0NAMwI6GEITiL0AlJQIIIIBAKIEI85q6oCwgamFH/ggNzQDsaAhBKP4CVFIigAACCIQSiDCvqQvKAqIWduSP0NAMwI6GEITiL0AlJQIIIIBAKIEI85q6oCwgamFH/ggNzQDsaAhBKP4CVFIigAACCIQSiDCvqQvKAqIWduSP0NAMwI6GEITiL0AlJQIIIIBAKIEI85q6oCwgamFH/ggNzQDsaAhBKP4CVFIigAACCIQSiDCvqQvKAqIWduSP0NAMwI6GEITiL0AlJQIIIIBAKIEI85q6oCwgamFH/ggNzQDsaAhBKP4CVFIigAACCIQSiDCvqQvKAqIWduSP0NAMwI6GEITiL0AlJQIIIIBAKIEI85q6oCwgamFH/ggNzQDsaAhBKP4CVFIigAACCIQSiDCvqQvKAqIWduSP0NAMwI6GEITiL0AlJQIIIIBAKIEI85q6oCwgamFH/ggNzQDsaAhBKP4CVFIigAACCIQSiDCvqQvKAqIWduSP0NAMwI6GEITiL0AlJQIIIIBAKIEI85q6oCwgamFH/ggNzQDsaAhBKP4CVFIigAACCIQSiDCvqQvKAqIWduSP0NAMwI6GEITiL0AlJQIIIIBAKIEI85q6oCwgamFH/ggNzQDsaAhBKP4CVFIigAACCIQSiDCvqQvKAqIWduSP0NAMwI6GEITiL0AlJQIIIIBAKIEI85q6oCwgamFH/ggNzQDsaAhBKP4CVFIigAACCIQSiDCvqQvKAqIWduSP0NAMwI6GEITiL0AlJQIIIIBAKIEI85q6oCwgamFH/ggNzQDsaAhBKP4CVFIigAACCIQSiDCvqQvKAqIWduSP0NAMwI6GEITiL0AlJQIIIIBAKIEI85q6oCwgamFH/ggNzQDsaAhBKP4CVFIigAACCIQSiDCvqQvKAqIWduSP0NAMwI6GEITiL0AlJQIIIIBAKIEI85q6oGEXkAkTJti8efNa9b3pppts6tSprf73tq6/ceNG69mzp7t2ERqaAdjdFrleAf9cOUmGAAIIIBBQIMK8pi5r2AVkxYoVtn79+n1877nnHlu5cqWtWrXKBg4c2O4CkpaY/fbbr1ncqFGj7KCDDnLXLkJDMwC72yLXK+CfKyfJEEAAAQQCCkSY19RlDbuAtAT75Zdf2re//W3r3bu3rVmzpk37pldAduzYYZ06dcqlThEamgE4l1apOgn+VdNxRQQQQAABBDKBCPOautQsIHsIP/bYYzZu3Di788477ZprrqloAfn6669t+/bt1rVr131eCfEWL0JDMwB7uyLfePzz9SQbAggggEA8gQjzmrqqLCB7CA8ZMsSef/55++CDD6x79+4VLSCHHHKIff7559alSxcbNmyYzZgxw/r27VtV3SI0NANwVa2R25Xwz42SRAgggAACQQUizGvq0rKA/EH4t7/9rR155JHZEvH000+3637ddddZevvVoEGD7MADD7SXXnrJZs6caWkhSZ8hOeqoo9rMsWnTJkv/2/Oybt267BWY9j5/0u7BlTiAAbjY4uBfrD+3jgACCCDQ8QVYQGqvIQvIHwxvu+02u/76623BggU2ZsyYqmSfffZZS6+ijB8/3ubOndtmjmnTptn06dNbjGEBqYqfK1UgwAJSARIhCCCAAAIItCHAAlJ7e7CA/MHwe9/7nm3evDl7VSK9olHtJb0iknJ8+OGHbabgFZA/8my47bxqubmeU4AFxAlGOAIIIIAAAnsJsIDU3hIsIGb26quv2qmnnmqTJ0+2+++/vybV9BW86S1c6cPp3kuEhmYA9nZFvvH45+tJNgQQQACBeAIR5jV1VVlAzOwnP/lJtni8/PLL2SJSy6V///726aefWvoxQu8lQkMzAHu7It94/PP1JBsCCCCAQDyBCPOauqrhF5D0SsV3vvMd+9a3vmW//vWv9/FOHzRPP1jYrVs369GjR/bfv/jii+y3P/Z+q9b8+fNt7NixNmnSJJs1a5a7dhEamgHY3Ra5XgH/XDlJhgACCCAQUCDCvKYua/gFZPHixTZ69GhLH0L/+c9/vo/3hg0brE+fPs0+WL569Wo777zz7IILLrB+/fpZ586dLf2y+uOPP269evXKXklp72t8WypshIZmAFY/pNvOj3+x/tw6AggggEDHF4gwr6mrFH4BGTlyZPaZjfSWqfRKyN6XlhaQ9GH19EOF6bMj6cPm6VWStHgMHz7cpk6daocffnhVdYvQ0AzAVbVGblfCPzdKEiGAAAIIBBWIMK+pSxt+AVEDe/JHaGgGYE9H5B+Lf/6mZEQAAQQQiCUQYV5TV5QFRC3syB+hoRmAHQ0hCMVfgEpKBBBAAIFQAhHmNXVBWUDUwo78ERqaAdjREIJQ/AWopEQAAQQQCCUQYV5TF5QFRC3syB+hoRmAHQ0hCMVfgEpKBBBAAIFQAhHmNXVBWUDUwo78ERqaAdjREIJQ/AWopEQAAQQQCCUQYV5TF5QFRC3syB+hoRmAHQ0hCMVfgEpKBBBAAIFQAhHmNXVBWUDUwo78ERqaAdjREIJQ/AWopEQAAQQQCCUQYV5TF5QFRC3syB+hoRmAHQ0hCMVfgEpKBBBAAIFQAhHmNXVBWUDUwo78ERqaAdjREIJQ/AWopEQAAQQQCCUQYV5TF5QFRC3syB+hoRmAHQ0hCMVfgEpKBBBAAIFQAhHmNXVBWUDUwo78ERqaAdjREIJQ/AWopEQAAQQQCCUQYV5TF5QFRC3syB+hoRmAHQ0hCMVfgEpKBBBAAIFQAhHmNXVBWUDUwo78ERqaAdjREIJQ/AWopEQAAQQQCCUQYV5TF5QFRC3syB+hoRmAHQ0hCMVfgEpKBBBAAIFQAhHmNXVBWUDUwo78ERqaAdjREIJQ/AWopEQAAQQQCCUQYV5TF5QFRC3syB+hoRmAHQ0hCMVfgEpKBBBAAIFQAhHmNXVBWUDUwo78ERqaAdjREIJQ/AWopEQAAQQQCCUQYV5TF5QFRC3syB+hoRmAHQ0hCMVfgEpKBBBAAIFQAhHmNXVBWUDUwo78ERqaAdjREIJQ/AWopEQAAQQQCCUQYV5TF5QFRC3syB+hoRmAHQ0hCMVfgEpKBBBAAIFQAhHmNXVBWUDUwo78ERqaAdjREIJQ/AWopEQAAQQQCCUQYV5TF5QFRC3syB+hoRmAHQ0hCMVfgEpKBBBAAIFQAhHmNXVBWUDUwo78ERqaAdjREIJQ/AWopEQAAQQQCCUQYV5TF5QFRC3syB+hoRmAHQ0hCMVfgEpKBBBAAIFQAhHmNXVBWUDUwo78ERqaAdjREIJQ/AWopEQAAQQQCCUQYV5TF5QFRC3syB+hoRmAHQ0hCMVfgEpKBBBAAIFQAhHmNXVBWUDUwo78ERqaAdjREIJQ/AWopEQAAQQQCCUQYV5TF5QFRC3syB+hoRmAHQ0hCMVfgEpKBBBAAIFQAhHmNXVBWUDUwo78ERqaAdjREIJQ/AWopEQAAQQQCCUQYV5TF5QFRC3syB+hoRmAHQ0hCMVfgEpKBBBAAIFQAhHmNXVBWUDUwo78ERqaAdjREIJQ/AWopEQAAQQQCCUQYV5TF5QFRC3syB+hoRmAHQ0hCMVfgEpKBBBAAIFQAhHmNXVBWUDUwo78ERqaAdjREIJQ/AWopEQAAQQQCCUQYV5TF5QFRC3syB+hoRmAHQ0hCMVfgEpKBBBAAIFQAhHmNXVBWUDUwo78ERqaAdjREIJQ/AWopEQAAQQQCCUQYV5TF5QFRC3syB+hoRmAHQ0hCMVfgEpKBBBAAIFQAhHmNXVBWUDUwo78ERqaAdjREIJQ/AWoEc2qBQAAIABJREFUpEQAAQQQCCUQYV5TF5QFRC3syB+hoRmAHQ0hCMVfgEpKBBBAAIFQAhHmNXVBWUDUwo78ERqaAdjREIJQ/AWopEQAAQQQCCUQYV5TF5QFRC3syB+hoRmAHQ0hCMVfgEpKBBBAAIFQAhHmNXVBWUDUwo78ERqaAdjREIJQ/AWopEQAAQQQCCUQYV5TF5QFRC3syB+hoRmAHQ0hCMVfgEpKBBBAAIFQAhHmNXVBWUDUwo78ERqaAdjREIJQ/AWopEQAAQQQCCUQYV5TFzTsArJhwwbr06dPi76XXHKJzZ49u137tWvX2pQpU+yFF17IYgcPHmwzZsyw448/vt3rthQQoaEZgKtqjdyuhH9ulCRCAAEEEAgqEGFeU5c2/AIycuRIGzNmTDPn7373u3baaae1af/WW2/ZKaecYoceeqhdccUVWey9995rW7dutVdeecX69evnrl2EhmYAdrdFrlfAP1dOkiGAAAIIBBSIMK+pyxp+AZk6darddNNNbue0tCxZssTWrVtnvXr1yq6/ceNGO/bYY23YsGG2YMECd84IDc0A7G6LXK+Af66cJEMAAQQQCCgQYV5Tl5UFZOpUS0tIunTp0qUi723bttlhhx1mY8eOtXnz5jW7zvjx423+/Pm2ZcsW69q1a0X5moIiNDQDsKslcg/GP3dSEiKAAAIIBBOIMK+pSxp+AUlLQloo0iW99eqnP/2p/fjHP27TfcWKFXbGGWfYgw8+aJdddlmz2PRvkydPthTT3tu49r6RCA3NAKx+SLedH/9i/bl1BBBAAIGOLxBhXlNXKewC8v7779sPf/hDu+CCC+yoo46yDz/8MPvg+cqVK+1nP/uZ3XHHHa3aL1q0KPvcyJNPPmnDhw9vFpf+LX2uZOHChTZ69OhWc2zatMnS//a8pLdzjRs3zlatWmUDBw5U176Q/AzAhbDvvlH8i/Xn1hFAAAEEOr4AC0jtNQy7gLRE980339hf/dVfZd9q9Zvf/Mb69u3bovAjjzxiF198sS1dutSGDBnSLOaZZ56xoUOHWopJy0Rrl2nTptn06dNb/M8sILU3NhlaFmABoTMQQAABBBCoTYAFpDa/dG0WkL0Mn3rqKRsxYoQ99NBD9qMf/ahFYV4Bqb7xGICrt8vjmvjnoUgOBBBAAIHIAiwgtVefBWQvwzVr1tiJJ55oN998s91www0tCvMZkOobjwG4ers8rol/HorkQAABBBCILMACUnv1WUD2Mly8eHH22Y30eZD0g4QtXdr7FqwnnnjCPvnkE74FqwU8BuDaH7S1ZMC/Fj2uiwACCCCAgBkLSO1dEHYB+d3vfpf9iOCel+3bt9uZZ55p6RfO169fn/2+x44dO7L/u1u3btajR4/d4WlJSZ8BeeONN6xnz57Zvzf9Dkj6DEh6m5b3EqGhGYC9XZFvPP75epINAQQQQCCeQIR5TV3VsAvIqFGj7Msvv8y+KjctEOlbsNJverzzzjt266232nXXXZfZb9iwwfr06WPp9z3mzp27ux5vvvmmnXrqqdnvgVx55ZXZv6dfQk+vfKRfQj/mmGPctYvQ0AzA7rbI9Qr458pJMgQQQACBgAIR5jV1WcMuIL/4xS+yhSMtEunVkPR7IOmrb6+66qrsQ+hNl9YWkPTf0+dFpkyZYsuXL8/CBw8ebLfffrv179+/qrpFaGgG4KpaI7cr4Z8bJYkQQAABBIIKRJjX1KUNu4CoYavJH6GhGYCr6Yz8roN/fpZkQgABBBCIKRBhXlNXlgVELezIH6GhGYAdDSEIxV+ASkoEEEAAgVACEeY1dUFZQNTCjvwRGpoB2NEQglD8BaikRAABBBAIJRBhXlMXlAVELezIH6GhGYAdDSEIxV+ASkoEEEAAgVACEeY1dUFZQNTCjvwRGpoB2NEQglD8BaikRAABBBAIJRBhXlMXlAVELezIH6GhGYAdDSEIxV+ASkoEEEAAgVACEeY1dUFZQNTCjvwRGpoB2NEQglD8BaikRAABBAoS4JxeDHyEeU0tywKiFnbkj9DQnCwdDSEIxV+ASkoEEECgIAHO6cXAR5jX1LIsIGphR/4IDc3J0tEQglD8BaikRAABBAoS4JxeDHyEeU0tywKiFnbkj9DQnCwdDSEIxV+ASkoEEECgIAHO6cXAR5jX1LIsIGphR/4IDc3J0tEQglD8BaikRAABBAoS4JxeDHyEeU0tywKiFnbkj9DQnCwdDSEIxV+ASkoEEECgIAHO6cXAR5jX1LIsIGphR/4IDc3J0tEQglD8BaikRAABBAoS4JxeDHyEeU0tywKiFnbkj9DQnCwdDSEIxV+ASkoEEECgIAHO6cXAR5jX1LIsIGphR/4IDc3J0tEQglD8BaikRAABBAoS4JxeDHyEeU0tywKiFnbkj9DQnCwdDSEIxV+ASkoEEECgIAHO6cXAR5jX1LIsIGphR/4IDc3J0tEQglD8BaikRAABBAoS4JxeDHyEeU0tywKiFnbkj9DQnCwdDSEIxV+ASkoEEECgIAHO6cXAR5jX1LIsIGphR/4IDc3J0tEQglD8BaikRAABBAoS4JxeDHyEeU0tywKiFnbkj9DQnCwdDSEIxV+ASkoEEECgIAHO6cXAR5jX1LIsIGphR/4IDc3J0tEQglD8BaikRAABBAoS4JxeDHyEeU0tywKiFnbkj9DQnCwdDSEIxV+ASkoEEECgIAHO6cXAR5jX1LIsIGphR/4IDc3J0tEQglD8BaikRAABBAoS4JxeDHyEeU0tywKiFnbkj9DQnCwdDSEIxV+ASkoEEECgIAHO6cXAR5jX1LIsIGphR/4IDc3J0tEQglD8BaikRAABBAoS4JxeDHyEeU0tywKiFnbkj9DQnCwdDSEIxV+ASkoEEECgIAHO6cXAR5jX1LIsIGphR/4IDc3J0tEQglD8BaikRAABBAoS4JxeDHyEeU0tywKiFnbkj9DQnCwdDSEIxV+ASkoEEECgIAHO6cXAR5jX1LIsIGphR/4IDc3J0tEQglD8BaikRAABBAoS4JxeDHyEeU0tywKiFnbkj9DQnCwdDSEIxV+ASkoEEECgIAHO6cXAR5jX1LIsIGphR/4IDc3J0tEQglD8BaikRAABBAoS4JxeDHyEeU0tywKiFnbkj9DQnCwdDSEIxV+ASkoEEECgIAHO6cXAR5jX1LIsIGphR/4IDc3J0tEQglD8BaikRAABBAoS4JxeDHyEeU0tywKiFnbkj9DQnCwdDSEIxV+ASkoEEECgIAHO6cXAR5jX1LIsIGphR/4IDc3J0tEQglD8BaikRAABBAoS4JxeDHyEeU0tywKiFnbkj9DQnCwdDSEIxV+ASkoEEECgIAHO6cXAR5jX1LIsIGphR/4IDc3J0tEQglD8BaikRAABBAoS4JxeDHyEeU0tywKiFnbkj9DQnCwdDSEIxV+ASkoEEECgIAHO6cXAR5jX1LIsIGphR/4IDc3J0tEQglD8BaikRAABBAoS4JxeDHyEeU0tywKiFnbkj9DQnCwdDSEIxV+ASkoEEECgIAHO6cXAR5jX1LIsIGphR/4IDc3J0tEQglD8BaikRAABBAoS4JxeDHyEeU0tywKiFnbkj9DQnCwdDSEIxV+ASkoEEECgIAHO6cXAR5jX1LJhF5CVK1fao48+as8995y9++67dvDBB9txxx1n119/vZ1zzjntuk+YMMHmzZvXYtzGjRutZ8+e7ebYOyBCQ3OydLdFrlfAP1dOkiGAAAKFCnBOL4Y/wrymlg27gIwZM8aWLVtmo0ePtoEDB9q2bdtszpw5tnbtWnvggQfs8ssvb9O+aQFJS8h+++3XLHbUqFF20EEHuWsXoaE5WbrbItcr4J8rJ8kQQACBQgU4pxfDH2FeU8uGXUCWL19uJ598sh144IG7jbdv324nnXSSffzxx/bRRx9Zp06dWvVvWkB27NjRZpyngBEampOlpyPyj8U/f1MyIoAAAkUJcE4vRj7CvKaWDbuAtAZ7zTXX2F133WXvv/++9erVq90F5Ouvv7a0uHTt2nWfV0K8xYvQ0JwsvV2Rbzz++XqSDQEEEChSgHN6MfoR5jW1LAvIXsIXXnihLVy40LZu3Zp9LqS1S9MrIIcccoh9/vnn1qVLFxs2bJjNmDHD+vbtW1XdIjQ0J8uqWiO3K+GfGyWJEEAAgcIFOKcXU4II85palgVkD+F169Zlb8E6//zzbdGiRW3aX3fddZbefjVo0KDsbVwvvfSSzZw509JCkj7gftRRR7V5/U2bNln6356XdPvjxo2zVatWZZ9LacQLJ8tiq4p/sf7cOgIIIJCnQGvn9L3/fcNt5+V5s+FzsYDU3gIsIH8w/Oyzz+z000/PloLXXnvNjjzySLfus88+a0OGDLHx48fb3Llz27z+tGnTbPr06S3GsIC46blChQIsIBVCEYYAAgh0AAEWkGKKxAJSuzsLiFn2GY6hQ4faq6++akuWLLGzzjqratn0ikhaYj788ENeAWlBgAG46tbK5Yr458JIEgQQQKAUAiwgxZSBBaR29/ALSPoQ+YgRI7LfA1m8eHH29qtaLukreJ9++mlLeb2XCA3NAOztinzj8c/Xk2wIIIBAkQIsIMXoR5jX1LKhF5CdO3da+j2Qp556yh577DEbO3Zszd79+/e3Tz/91NKPEXovERqaAdjbFfnG45+vJ9kQQACBIgVYQIrRjzCvqWXDLiC7du2yiy66yObPn28PP/ywXXrppS1apw+ar1+/3rp162Y9evTIYr744ovstz/2/A2R9O8pV1piJk2aZLNmzXLXLkJDMwC72yLXK+CfKyfJEEAAgUIFWECK4Y8wr6llwy4gV199td19993Z5z0mTpy4j/O5555r3bt3tw0bNlifPn2afbB89erVdt5559kFF1xg/fr1s86dO9uKFSvs8ccfz3475OWXX86u671EaGgGYG9X5BuPf76eZEMAAQSKFGABKUY/wrymlg27gJx99tm2bNmyVn2ff/55SzEtLSCbN2+29IOF6UPr6cPm6VWStHgMHz7cpk6daocffnhVdYvQ0AzAVbVGblfCPzdKEiGAAAKFC7CAFFOCCPOaWjbsAqKGrSZ/hIZmAK6mM/K7Dv75WZIJAQQQKFqABaSYCkSY19SyLCBqYUf+CA3NAOxoCEEo/gJUUiKAAAIFCbCAFAMfYV5Ty7KAqIUd+SM0NAOwoyEEofgLUEmJQGABzinFFp8FpBj/CPOaWpYFRC3syB+hoXmycjSEIBR/ASopEQgswDml2OKzgBTjH2FeU8uygKiFHfkjNDRPVo6GEITiL0AlJQKBBTinFFt8FpBi/CPMa2pZFhC1sCN/hIbmycrREIJQ/AWopEQgsADnlGKLzwJSjH+EeU0tywKiFnbkj9DQPFk5GkIQir8AlZQIBBHY+/yx4bbzjHNKscVnASnGP8K8ppZlAVELO/JHaGierBwNIQjFX4BKSgSCCLCAlK/QLCDF1CTCvKaWZQFRCzvyR2hoBmBHQwhC8RegkhKBIAIsIOUrNAtIMTWJMK+pZVlA1MKO/BEamgHY0RCC0Ebyb6T7Iig1KUss0FF7lwWkfE3FAlJMTSLMa2pZFhC1sCN/hIbuqE+8jjKWOrSR/BvpvpS6aTi43AU6au+ygOTeCjUnZAGpmbCqBBHmtapgHFdiAXFgqUMjNHRHfeJV175e+RvJv5HuS73qz+2UQ6Cj9m4ZFpCOaqfqPBYQlWzbeSPMa2pZFhC1sCN/hIbmycPREILQRvJvpPsiKDUpSyzQUXuXBaR8TcUCUkxNIsxralkWELWwI3+Ehu6oT7yOMpY6tJH8G+m+lLppOLjcBZS929KSkNcdYAHJSzK/PCwg+Vl6MkWY1zwe1cSygFSjJrpOhIZWPvGKytJQaRvJv5HuS0M1GXemXQFl77KAtMvfUAEsIMWUM8K8ppZlAVELO/JHaGjlE6+DOmxoI/k30n0J25BB77iyd1lAYjUVC0gx9Y4wr6llWUDUwo78ERpa+cTroHaHKp/U3QdTwxU6qn9Ld7mR7ksNJeWqHVBA2bvKcxVvwSpfs+WxgCj7sXxi+RxRhHktH6nWs7CAqIUd+SM0dEc90Smf1B0tUnNoR/VnAam59CQokYDycag8V7GAlKiJ/nAoLCDF1CTCvKaWZQFRCzvyR2ho5ROvg9odqnxSdx9MDVfoqP5RF5BG6bsaWrYhr6p8HCp7hgWkfO3IAlJMTSLMa2pZFhC1sCN/hIZWPvE6qN2hyid198HUcIWO6t8oC4jXv1H6roaWbcirevvAg+DpGe9xsIB4KlGfWM8CUmlsOvINt51XnzvQQW8lwrymLg0LiFrYkT9CQ3uf8Bx80lDPk7r0QGpM3lH9WUD+T0A9FHj6vJF6qcaHlfvqSjtlDVlA3KWWX6HSpSKdOyqNrce5Rg4jvoEI85qY0FhA1MKO/BEaWvnE66B2h3qe1N3J63iFjurPAsICUseHifymlI9Dz7nKexwsIPLWcN9ApUsFC4ibts0rRJjX8hXbNxsLiFrYkT9CQ3uf8Bx80lDPk7r0QGpM3lH9WUBYQGps/VJdXfk49JyrvMfBAlKqNsoORrmAeHqpfDLaI4owr2kFjVdA1MCe/BEa2vuE5/FTxjbKibij+rOAsIC0NGyp35KmOqcoH4eec5X3OFhAVB1RfV4WkOrtarlmhHmtFp9KrssrIJUo1SkmQkN7n/DqRN/uzXie1NtNVmBAR/VnAWEBYQGp7MThOVd5htfW/L05KrsXrUc10jmsVgteAclDsLocEea16mQqvxYLSOVW8sgIDd1Rnzw8T+ryRqnhBjqqPwsICwgLSGUPfM+5yrs8eF4B8RxHZffs/6Ia6Rzmud+txXpqWGlsuq2WPjPSUV9xzMN57xwR5jWF2545WUDUwo78ERq6oz55qJ5MHe2RyxNvR/VnAWEBYQGp7GzhOVdVOpA2DZ4sIJXVoJ5RnhpWGssC0n4FI8xr7SvUFsECUptfrteO0NAddQD2PKnn2hR7JMvDLo8cqvvnzdsR74v3mOvdd57b894Xb30rWTqL+ItsHvc7jxyV/kW8LaNKB1IWkDy6V5PDU8NKY1lA2q9VhHmtfYXaIlhAavPL9doRGlr5xJtrMfZK5hnMVMeRh10eOVT3z5u3I94X7zF7/uLs8at0EKlmePUchzeWx2H7Yh4jbx94+tFzHO3fqz9GeB9DntwdMdZTw0pjWUDa74QI81r7CrVFsIDU5pfrtSM0dEd98lA9mXoaKA+7PHJ4jlkZ2xHvi/eYPQOfx7rSQYQFZF9Vbw1bqkseOVqrt+dc5e0DTz96jiOP3vXkaKRYTw0rjWUBab9DIsxr7SvUFsECUptfrteO0NDKJ95ci7FXMtWTqeeY87DLI4fnmJWxHfG+eI/ZM/B5rCsdRFhAyruAeGvo6aXWznd55PD0ab2Xt1qPLV3f81zhPR94PGqpFQtI+50QYV5rX6G2CBaQ2vxyvXaEhs7jhJsreoXJPE8qFaZ0h+Vhl0cO94GLrtAR74v3mD1DhIfZO7x6Bh/PcXhjeRz+UcxbQ08vsYB4O7P1uqiXeE8fVBrLAtJ+/SPMa+0r1BbBAlKbX67XjtDQ3gEsV+AakjH41IAnumpH7CXvMXuGRg9zpYOIenjyHHOKLfPj0FNbT2xrRt4aenqpLAuI55i9vaSK9/Rovfug0p5hAWm/OyLMa+0r1BbBAlKbX67XjtDQeZxwc0WvMJnnSaXClO6wPOzyyOE+cNEVvPel1hp6b6+lu+3NoRrAKh1EWED2rWKldk1DXB594MmhXB48/eh5vFVq2tJvU7TlLDr1tJk2j/vtOe487Dw5PMfmjfWeH73584yPMK/l6dVSLhYQtbAjf9kbOo+TQx45HKS5hXqeVDw36vHwxLZ2DJU+0ZTtSd0zgFV6371f4ar09xyz8jg8fZ7HcXgeKynWc3ze3JXG5/EYysOu0uPI8yt0WUDa7xJPj9a7Dyrtmabzv+e+tC/TfkQeHu3fSj4RZZ/X8rmX2iwsIFpfV/ayN3QeJ4c8crhQcwrO40TsefLOY+D25OiIdfEec6019N6ex58FpLIHaq01rOxW2o7yDnF59IEnR2tGnvOPMket9yWPx2EefeB5zFYa2zT4e46v0n5s69UjTw7PsXljy17bPe9P2ec1r30R8SwgRai3cptlb+g8Tg555FCezCvN7f3recpb6wCQh12lTzTVPBHW+6Hk9Sizv6fvvPe71oGv0mOrR8+wgPyxGpU+lnkFpL5nJk+P1vuxXGnPND2WPfclD+U8PPI4jkpylH1eq+Q+FB3DAlJ0Bfa4/bI3dB4nhzxyFDEQ5XEiLvMArKyL6iHmPeZ6+3tur9Kezus98JUOInwGZN/KVGrX1kLm7d08lkhPP3bEV0DyMM3jXOV5rsjjmCvtR14ByaO6f8xR9nkt33urycYConGtKmvZG1p5svSAVXrCzfMvsp4nlTyGSc+wUHY7z/F5Yr396DGtJbatvx4qjzkPuzwGzzyOw/MY8txeHrF5nH+8fcAC8n8C1QzRedTck8PzXFHvPvD2rue+eIwqfXzn+Ryex/HtmaPs81re91eRjwVEoVplzrI3tPJk6SHznkQ9uSs9MfIWrNpUi+ilWpaKagYfz+15+k5pV5YFxHMctXWi/9p5nH/KXkOPf6Ue1bya5nkM5WHq74Z9r+EZ2vM4Zo9/pbFt/RGl0nNVNctDHh551LCSHGWf1yq5D0XHsIAUXYE9br/sDZ3HyUGZI4/clZ5cWUBqe+DkUStvjlqGmY6wgHg8Kh1Eqvn8gKcz8jgOz+3lEVvpMbc1gHlqVek5qb2hsdb+T/nzyNHS/anUtJrHYR419+RgAfmjlvd5Mo/HhadWtcSWfV6r5b7V67osIPWSruB2yt7Q3pOD58mqAp7dIZU+WVXzF5hKn+yreS++x8MTW287bx94Bg7FfalmiPb4V9qP9e6Zagbg1oYnj0dZaug5Dk9spfWuxl9xHHn1PwtIZdVhAWm+gNTbo7Iq1R5V9nmt9nuoz8ACojeu+BbK3tDewbPooSXPASCP++LJ4YmtuMFa+Atmk1GlQ5V6iFbcl7wGsEqNWjNV23ken5Xel2rsylJDz3F4Yiu1y/P841ni81gilTlqvS95+Hvq7Y2t98BdqUc1rx7lcV/yyOGtQT3iyz6v1cOg1tsIu4B88803dscdd9js2bNt48aN1qtXL5s4caJde+21tv/++7frunbtWpsyZYq98MILWezgwYNtxowZdvzxx7d73dYCyt7QngHH+9cyD1qlJ9w8B4A8FgJPDk9sa3aeHJWaqodoRR9UM0R3RLs8apjH4FmWGnqOwxNbqXOe559ah3bv+TiPPqj3Y8j7/OSpuSe23gN3pf3IAuKpYvuxZZ/X2r8HxUeEXUAmT55sDz74oP3gBz+wM844w1588UWbM2eOpX+///7726zMW2+9ZaeccoodeuihdsUVV2Sx9957r23dutVeeeUV69evX1WVLaKhPSdtT6z3CS/CEF3LE7J68M/jSSyPGnoeOJ5j9vZjLbVqGjw9OfKw83h4Yr12Za5hpc7VLA8eU+W5VLU8ePvA0/952HlyeHrUG8sC8kexlp63qlmEvDWoR3wR81o97lc9byPkAvL666/biSeemC0P99xzz27vq666ymbOnGmvvfaanXDCCa3WYcyYMbZkyRJbt25d9spJuqRXUY499lgbNmyYLViwoKoaFtHQnidCT2ytT1bVDHGeJyDlfal0yPGciD2xRdkp/Vsy9dxerf0YxT+P4VXV/0XUsJa+q+ZxWGa7IvxVS0ylzm0topXmqObbvzwDhOc8WGlsW71b6f2upv+9z8sep7xji5jX8r4PRecLuYBMnTrVbrnlFnvnnXesT58+u2vw7rvv2tFHH2033HCD3XzzzS3WZtu2bXbYYYfZ2LFjbd68ec1ixo8fb/Pnz7ctW7ZY165d3bUtoqErPSExgP2yWT09Hh3hLUBl7YO87BppeKq0VnkMAGXyp4Z/PAUVcf7BH39P3+Vx/qkmh3vwqvIKRcxrVR5qaa8WcgEZOnRo9irH5s2b9ylM9+7dbcCAAdkrHC1dVqxYkb1lK71967LLLmsWkv4tvYUrxZx22mnuohfR0JUOMx3hxKO4L2UawCq9f9WctCvNXe8+wL/6xTePPiiTPwMwA3C9zz+N9hiq9Dyfx/0uKod78KryCkXMa1UeammvFnIBSW+v6ty5s61atWqfwgwcONB27Nhh6W1aLV0WLVpk6S1YTz75pA0fPrxZSPq3kSNH2sKFC2306NFtFn3Tpk2W/rfnZfXq1XbJJZfYo48+mr2dqx6X8+79r31u5pdX/oXt/e8t/Vu6ouffPbGt5a53jnR76VKLR145Kq1VWezyOI687PKoIf5/PFV4HofUsPk51mPHY6hYO/w7nn895qZ0G+kt+OPGjcu+iOjMM8+s18021O2EXED69u1r6ZWO9MHzvS/p1Y2PPvrI3n777RYL/cgjj9jFF19sS5cutSFDhjSLeeaZZyy9upJiUmO2dZk2bZpNnz69oZqJO4MAAggggAACCEQRSH8w/v73vx/l7uZ6P0MuIGV9BeTTTz/Ntur0FrAuXbrkWui2kjVt8vV85aVudy7IDVHDjl9oakgNO75Ax78HPA6pYSUC27dvtw0bNmR/dD788MMruQoxewmEXEDK+hmQorqT9zIWJZ/f7VLD/CyLykQNi5LP73apYX6WRWWihkXJ53e71DA/S2WmkAtI+parW2+9VfItWE888YR98sknVX0LlrLQbeXmwVqUfH63Sw3zsywqEzUsSj6/26WG+VkWlYkaFiWf3+1Sw/wslZlCLiDpG7DS25xa+x2Q9GHw/v37Zx9GX79+vXXr1s169Oixuw7pA+bpMyBvvPGG9ezZM/v3pt8BSa+upA+qd6QLD9aOVK2Wj5UaUsOOL9AAN+VKAAANF0lEQVTx7wGPQ2rY8QU6/j3gcdgxahhyAUmlSV+h+9BDD2W/hJ6+wWD58uXZL6FPmjTJZs2alVUvvb8v/U5I+n2PuXPn7q7om2++aaeeemr2eyBXXnll9u/pl9DTKx/pl9CPOeaYjlH9PxwlD9YOVa4WD5YaUsOOL9Dx7wGPQ2rY8QU6/j3gcdgxahh2Adm5c6fNmDHDZs+ebR988EH2SsbEiRNtypQp1qlTpzYXkPQf16xZk8WmxSVdBg8ebLfffnv2yklHu6SvA07LWFq+9nylp6Pdj8jHSw07fvWpITXs+AId/x7wOKSGHV+gY9yDsAtIxygPR4kAAggggAACCCCAQGMJsIA0Vj25NwgggAACCCCAAAIIlFqABaTU5eHgEEAAAQQQQAABBBBoLAEWkMaqJ/cGAQQQQAABBBBAAIFSC7CAlLo8HBwCCCCAAAIIIIAAAo0lwALSWPXk3iCAAAIIIIAAAgggUGoBFpBSl0d7cN98843dcccd2VcRpx9S7NWrV/ZVxNdee63tv//+2hsnu0tg5cqV9uijj9pzzz1n7777rh188MF23HHH2fXXX2/nnHNOs1zU1UVbWHCq5f/7f/8vu/233nrLvvvd7+4+FmpYWFkquuH0Va3/8A//YL/85S/tf/7nf7LfhEq/DZW+zrx79+5ZDmpYEWXdg9JzXardf/zHf1iqY6rXWWedZVOnTrU/+7M/4zFY94q0fYPbtm2zO++801atWmXpeXDz5s37/DZbUwbPY84TWzKShjkcFpCGKaX/jkyePNkefPDB7McYzzjjDHvxxRezH2NM/37//ff7E3INmcCYMWNs2bJlNnr0aBs4cKClk3Kq1dq1a+2BBx6wyy+/fPdtU1dZGXJL/PXXX9uJJ56YLf5ffPHFPgsINcyNOvdEaVn8y7/8S+vSpYtNmDAh+w2pjz/+2FasWJH9Qadfv37ZbVLD3OlrTph+LPj444+39PhL58z0Q8Nvv/129jz4J3/yJ/b6669n9aR+NVPnlqDpB6HTb5QNGjTInn766VYXEM9jzhOb250hUTMBFpCgDZFOtGkAuuKKK+yee+7ZrXDVVVfZzJkz7bXXXrMTTjghqE757nb6wcuTTz7ZDjzwwN0Ht337djvppJOy4eejjz7KfkCTupavdi0d0a233mr/+I//aBdddFH2/+75Cgg1LG8Nf//739uf//mfZ69upD8IdO3atcWDpYblrGH6Y82Pf/xje/LJJ2348OG7D3LRokWW/shz9913209/+lPOoyUq31dffWVbtmyxI444wtIPSB9wwAEtLiCex5wntkQUDXcoLCANV9LK7lB6ufmWW26xd955J/srUNMlvb3n6KOPthtuuMFuvvnmypIRVZjANddcY3fddZe9//772VvoqGthpaj4ht977z373ve+Z/fdd5+l/3v69OnNFhBqWDFl3QOb3jb31FNP2fnnn2//+7//a/vtt5917ty52bFQw7qXpqIbvO2227K3rb766qvZH3SaLunVq/QugPQWuh/96EecRyvSrH9QWwuI5zHnia3/vYxziywgcWrd7J4OHTo0e5UjvZ9y70t6T+yAAQNsyZIlQXU6zt2+8MILbeHChbZ169bscyHUtfy1GzlyZPaKVXrLY1o+9l5AqGF5azhlypTsbVb/+Z//mf2RJtUwvXUnvSqS/hBw+umnZwdPDctZw7R4pM/qnHbaadnnCnr37p29Bevqq6/O3taa/vuf/umfUr9ylq/NV0A8jzlPbEkpGuKwWEAaooz+O5HeXpX+apc+2LX3JX3GYMeOHdnL0FzKK7Bu3brsLVjpL7HpLQTpQl3LW690ZOn9y2kBeeWVV7L3M0+bNm2fBYQalreGF1xwgf3rv/6rHX744fYXf/EXlv4A8OGHH2Yfav7yyy+zuqb6UcPy1vDhhx/Olsf0eZCmS/pMz+LFi7MvE+A8Wt7atfUKiOcx54ktr0bHPzIWkI5fw6ruQd++fbNv/0h/wdv7kl6KTn+hTX8Z4lJOgc8++yz7a2v6Fpf0StaRRx6ZHSh1LWe90lGlz+ykby4799xzs7d6pEtLCwg1LG8N0zfOpW9PSt9e9u///u+7D/S//uu/sg+m/83f/I398z//M4/D8pbQ/uVf/sVmzZqVvcqRvnku/aEtvaqVPpy+dOnS7JVkHoPlLGBbC4inZp7Ycko0xlGxgDRGHd33gr8AuMlKc4U0yKYnz/R2gfQ2ufQVkk0X6lqaMu1zIH//93+ffWPZb37zm+wv6K0tINSwvDVMH1xOr2LNnTs3+yDsnpf0dp702Exfy0sNy1nD9CrH3/3d39mvfvWrZl+y8swzz2Tn1Ntvv93S2+yoXznrxysg5axLtUfFAlKtXAe/Hu+B7JgFTF8fOWLEiOz3QNKTaXr71Z4X6lrOuqa36aQvd0jfsJN+a6fpcu+992bfOpf+qp4G2BRDDctZw3RUl112Wfbq1b/927/ZX//1Xzc70PS5gjTYpscoNSxnDdMfa9K3Bv7617/e5wDTZz/Sq1hpwaR+5axfWwuIp2ae2HJKNMZRsYA0Rh3d9yK9BzZ9FSjfguWmK+wK6eSbvioyfQPPY489ZmPHjt3nWKhrYeVp84ZXr16dfbFDW5f01o/0QVhqWM4apqP6xS9+kS2Q//RP/9RskUz/ren3Iz744ANqWNISHnPMMdmRvfnmm82OMH298iGHHGKDBw/OXlXmMVjOAra1gHhq5oktp0RjHBULSGPU0X0v0ucG0kDU2u+ApIGpf//+7rxcQSOwa9eu7Dcj5s+fb+lDlJdeemmLN0RdNf61Zk2f2Xn22Wf3SZM+L7BgwYLsVZA0wKYPOVPDWrV110+/R3DUUUdlb9FJv82z//77ZzeW/mqe3p51ySWX2OzZs6mhrgQ1ZU5fAJH+gJNq1/SNZSlh+ibB9Pmd9PWsN910E/WrSVl35bYWEM950xOruzdkZgEJ3ANNbydIv4R+5plnZifl9OvakyZNyj6kx6U8AulrItOPZKW3EOz5Fp6mI0wfbE5fKpAu1LU8dWvvSFr6EDo1bE+t2P+efrg1vZUufQvW3/7t39pvf/tbS2+lS69gpW8VTL/HQw2LrVFrt56+dOXss8/OftA1/RJ2+jBy+hB6+qPOoYceav/93/9t3/72t6lfycqXfjMpfdV8+kPcjTfemP3xdNSoUdlRprckN/2x1PPc54ktGUfDHA4LSMOU0n9H0l8TZsyYkf3FLr1tIP0FNg236UN46Ve1uZRHID1ppl9ebu3y/PPPZ0+s6UJdy1O39o6ktQWEGrYnV+x/f/TRR7Pf/UifJTjooIOybzZLb2lNn+FpulDDYmvU2q2vWbMm+9rklStXZl+hnBaPVL/0ykd6dYv6la9u6fNx6UdbW7qkP5pOmDDB/dzH47P4OrOAFF8DjgABBBBAAAEEEEAAgTACLCBhSs0dRQABBBBAAAEEEECgeAEWkOJrwBEggAACCCCAAAIIIBBGgAUkTKm5owgggAACCCCAAAIIFC/AAlJ8DTgCBBBAAAEEEEAAAQTCCLCAhCk1dxQBBBBAAAEEEEAAgeIFWECKrwFHgAACCCCAAAIIIIBAGAEWkDCl5o4igAACCCCAAAIIIFC8AAtI8TXgCBBAAAEEEEAAAQQQCCPAAhKm1NxRBBBAAAEEEEAAAQSKF2ABKb4GHAECCCCAAAIIIIAAAmEEWEDClJo7igACCCCAAAIIIIBA8QIsIMXXgCNAAAEEEEAAAQQQQCCMAAtImFJzRxFAAAEEEEAAAQQQKF6ABaT4GnAECCCAAAIIIIAAAgiEEWABCVNq7igCCCCAAAIIIIAAAsULsIAUXwOOAAEEEEAAAQQQQACBMAIsIGFKzR1FAAEEEEAAAQQQQKB4ARaQ4mvAESCAAAIIIIAAAgggEEaABSRMqbmjCCCAAAIIIIAAAggUL8ACUnwNOAIEEEAAAQQQQAABBMIIsICEKTV3FAEEEEAAAQQQQACB4gVYQIqvAUeAAAIIIIAAAggggEAYARaQMKXmjiKAAAIIIIAAAgggULwAC0jxNeAIEEAAAQQQQAABBBAII8ACEqbU3FEEEEAAAQQQQAABBIoXYAEpvgYcAQIIIIAAAggggAACYQRYQMKUmjuKAAIIIIAAAggggEDxAiwgxdeAI0AAAQQQQAABBBBAIIwAC0iYUnNHEUAAAQQQQAABBBAoXoAFpPgacAQIIIAAAggggAACCIQRYAEJU2ruKAIIIIAAAggggAACxQuwgBRfA44AAQQQQAABBBBAAIEwAiwgYUrNHUUAAQQQQAABBBBAoHgBFpDia8ARIIAAAggggAACCCAQRoAFJEypuaMIIIAAAggggAACCBQvwAJSfA04AgQQQAABBBBAAAEEwgiwgIQpNXcUAQQQQAABBBBAAIHiBVhAiq8BR4AAAggggAACCCCAQBgBFpAwpeaOIoAAAggggAACCCBQvMD/B59/RG29nSCXAAAAAElFTkSuQmCC\" width=\"640\">"
      ],
      "text/plain": [
       "<IPython.core.display.HTML object>"
      ]
     },
     "metadata": {},
     "output_type": "display_data"
    }
   ],
   "source": [
    "# You may wish to view the PageRank graphically.\n",
    "# This code will draw a bar chart, for each (numbered) website on the generated internet,\n",
    "# The height of each bar will be the score in the PageRank.\n",
    "# Run this code to see the PageRank for each internet you generate.\n",
    "# Hopefully you should see what you might expect\n",
    "# - there are a few clusters of important websites, but most on the internet are rubbish!\n",
    "%pylab notebook\n",
    "r = pageRank(generate_internet(100), 0.9)\n",
    "plt.bar(arange(r.shape[0]), r);"
   ]
  },
  {
   "cell_type": "code",
   "execution_count": null,
   "metadata": {
    "id": "kwlMVqxSrcDF"
   },
   "outputs": [],
   "source": []
  }
 ],
 "metadata": {
  "colab": {
   "collapsed_sections": [],
   "name": "PageRank.ipynb",
   "provenance": []
  },
  "coursera": {
   "course_slug": "linear-algebra-machine-learning",
   "graded_item_id": "Sfbnp",
   "launcher_item_id": "aPxf3"
  },
  "kernelspec": {
   "display_name": "Python 3",
   "language": "python",
   "name": "python3"
  },
  "language_info": {
   "codemirror_mode": {
    "name": "ipython",
    "version": 3
   },
   "file_extension": ".py",
   "mimetype": "text/x-python",
   "name": "python",
   "nbconvert_exporter": "python",
   "pygments_lexer": "ipython3",
   "version": "3.8.3"
  }
 },
 "nbformat": 4,
 "nbformat_minor": 1
}
